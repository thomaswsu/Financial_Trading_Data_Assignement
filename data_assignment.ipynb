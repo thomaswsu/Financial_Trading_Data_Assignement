{
 "cells": [
  {
   "cell_type": "markdown",
   "metadata": {},
   "source": []
  },
  {
   "cell_type": "code",
   "execution_count": 67,
   "metadata": {},
   "outputs": [],
   "source": [
    "# For Reference \n",
    "# Date;Time;BTC/USD Bid;BTC/USD Bid Size;BTC/USD Ask;BTC/USD Ask Size;BTC/EUR Bid;BTC/EUR Bid Size;BTC/EUR Ask;BTC/EUR Ask Size;ETH/BTC Bid;ETH/BTC Bid Size;ETH/BTC Ask;ETH/BTC Ask Size;EUR/USD Bid;EUR/USD Bid Size;EUR/USD Ask;EUR/USD Ask Size;ETH/USD Bid;ETH/USD Bid Size;ETH/USD Ask;ETH/USD Ask Size;ETH/EUR Bid;ETH/EUR Bid Size;ETH/EUR Ask;ETH/EUR Ask Size"
   ]
  },
  {
   "cell_type": "code",
   "execution_count": 68,
   "metadata": {},
   "outputs": [],
   "source": [
    "# Note datetime is the module name, but datetime is a class two. To call the datetime class use datetime.datetime\n",
    "import datetime"
   ]
  },
  {
   "cell_type": "code",
   "execution_count": 69,
   "metadata": {},
   "outputs": [],
   "source": [
    "def remove_from_str(s, substrings_to_remove) -> str:\n",
    "    \"\"\"\n",
    "    Pretty inefficient but whatever.\n",
    "    Use regex for speedup.\n",
    "    \"\"\"\n",
    "    ret = s\n",
    "    for sub in substrings_to_remove:\n",
    "        ret = ret.replace(sub, \"\")\n",
    "    return(ret)"
   ]
  },
  {
   "cell_type": "code",
   "execution_count": 70,
   "metadata": {},
   "outputs": [],
   "source": [
    "def next_interval(t: datetime.datetime) -> datetime.datetime:\n",
    "    \"\"\"\n",
    "    Return the next 5 minute interval\n",
    "    \"\"\"\n",
    "    return(t + datetime.timedelta(minutes=5))\n",
    "\n",
    "# print(datetime.datetime(2021, 9, 13, 12, 10))\n",
    "# print(next_interval(datetime.datetime(2021, 9, 13, 12, 10)))"
   ]
  },
  {
   "cell_type": "code",
   "execution_count": 71,
   "metadata": {},
   "outputs": [],
   "source": [
    "chars_to_remove = {'$', '€', ',', \"BTC\"}\n",
    "f = open(\"Assignment 1 - Data.txt\", 'r')\n",
    "text = f.read()\n",
    "\n",
    "rows = text.split('\\n')"
   ]
  },
  {
   "cell_type": "code",
   "execution_count": 72,
   "metadata": {},
   "outputs": [],
   "source": [
    "d = dict()\n",
    "t = []\n",
    "indexes = dict()\n",
    "\n",
    "columns = rows[0].split(';')\n",
    "\n",
    "for trade_type in columns[2:]:\n",
    "    d[trade_type] = dict()\n",
    "\n",
    "for i in range(len(columns)):\n",
    "    indexes[i] = columns[i] \n"
   ]
  },
  {
   "cell_type": "code",
   "execution_count": 73,
   "metadata": {},
   "outputs": [],
   "source": [
    "#Setting up dictionary for easy lookup\n",
    "for row in rows[1:]:\n",
    "    split = row.split(';')\n",
    "    for i in range(len(split)):\n",
    "        if i == 0:\n",
    "            date = split[i]\n",
    "        elif i == 1:\n",
    "            time_of_day = split[i]\n",
    "        else:\n",
    "            trade_time = datetime.datetime.strptime(date + ' ' + time_of_day, \"%m/%d/%Y %I:%M %p\")\n",
    "            trade_type = indexes[i]\n",
    "            d[trade_type][trade_time] = float(remove_from_str(split[i], chars_to_remove))\n",
    "\n",
    "            "
   ]
  },
  {
   "cell_type": "code",
   "execution_count": 74,
   "metadata": {},
   "outputs": [],
   "source": [
    "#Setting up times \n",
    "times = []\n",
    "for i in d:\n",
    "    for j in d[i]:\n",
    "        times.append(j)\n",
    "    break\n",
    "times.sort()"
   ]
  },
  {
   "cell_type": "code",
   "execution_count": 75,
   "metadata": {},
   "outputs": [
    {
     "name": "stdout",
     "output_type": "stream",
     "text": [
      "$66590.09\n"
     ]
    }
   ],
   "source": [
    "# orders = [\"BTC/USD Bid\", \"BTC/USD Ask\", \"BTC/EUR Bid\", \"BTC/EUR Ask\", \"ETH/BTC Bid\", \"ETH/BTC Ask\", \"EUR/USD Bid\", \"EUR/USD Ask\", \"ETH/USD Bid\", \"ETH/USD Ask\", \"ETH/EUR Bid\", \"ETH/EUR Ask\"]\n",
    "\n",
    "# Bid \n",
    "# We get the denomiator\n",
    "# Ex BTC/USD Bid * BTC/USD Bid Size = $48,064.80 * 9.4296 in BTC to be sold \n",
    "\n",
    "# Ask\n",
    "# We get the numerator\n",
    "# BTC/USD Ask * BTC/USD Ask Size = $48,269.41 * 18.2923 in BTC to be bought\n",
    "# trading 3 and four currencies\n",
    "\n",
    "trade_set = [\n",
    "[\"EUR/USD Ask\", \"BTC/EUR Ask\", \"ETH/BTC Ask\", \"ETH/USD Bid\"], # USD -> EUR -> BTC -> ETH -> USD \n",
    "[\"EUR/USD Ask\", \"ETH/EUR Ask\", \"ETH/BTC Bid\", \"BTC/USD Bid\"], # USD -> EUR -> ETH -> BTC -> USD \n",
    "[\"BTC/USD Ask\", \"BTC/EUR Bid\", \"ETH/EUR Ask\", \"ETH/USD Bid\"], # USD -> BTC -> EUR -> ETH -> USD \n",
    "[\"BTC/USD Ask\", \"ETH/BTC Ask\", \"ETH/EUR Bid\", \"EUR/USD Bid\"], # USD -> BTC -> ETH -> EUR -> USD \n",
    "[\"ETH/USD Ask\", \"ETH/BTC Bid\", \"BTC/EUR Bid\", \"EUR/USD Bid\"], # USD -> ETH -> BTC -> EUR -> USD \n",
    "[\"ETH/USD Ask\", \"ETH/EUR Bid\", \"BTC/EUR Ask\", \"BTC/USD Bid\"], # USD -> ETH -> EUR -> BTC -> USD \n",
    "[\"EUR/USD Ask\", \"BTC/EUR Ask\", \"BTC/USD Bid\"], # USD -> EUR -> BTC -> USD\n",
    "[\"EUR/USD Ask\", \"ETH/EUR Ask\", \"ETH/USD Bid\"], # USD -> EUR -> ETH -> USD\n",
    "[\"BTC/USD Ask\", \"BTC/EUR Bid\", \"EUR/USD Bid\"], # USD -> BTC -> EUR -> USD\n",
    "[\"BTC/USD Ask\", \"ETH/BTC Ask\", \"ETH/USD Bid\"], # USD -> BTC -> ETH -> USD\n",
    "[\"ETH/USD Ask\", \"ETH/EUR Bid\", \"EUR/USD Bid\"], # USD -> ETH -> EUR -> USD\n",
    "[\"ETH/USD Ask\", \"ETH/BTC Bid\", \"BTC/USD Bid\"], # USD -> ETH -> BTC -> USD\n",
    "]\n",
    "\n",
    "portfolio_values = []\n",
    "\n",
    "def new_method():\n",
    "    portfolio_value = 1\n",
    "    best_trades = None\n",
    "    outstr = \"\"\n",
    "    for t in times:\n",
    "        max_profit = 0\n",
    "        for trades in trade_set:\n",
    "            end_value = portfolio_value\n",
    "            shares = []\n",
    "            for trade in trades:\n",
    "                if \"Bid\" in trade:\n",
    "                    end_value *= d[trade][t]\n",
    "                    shares.append(end_value)\n",
    "                elif \"Ask\" in trade: \n",
    "                    end_value /= d[trade][t]\n",
    "                    shares.append(end_value)\n",
    "            profit = end_value - portfolio_value\n",
    "            sizes = []\n",
    "            for trade in trades:\n",
    "                sizes.append(d[trade + \" Size\"][t])\n",
    "            ratios = [sizes[i] / shares[i] for i in range(0, len(shares))]\n",
    "            minflow = min(ratios) if min(ratios) < 1 else 1\n",
    "            profit = minflow * profit\n",
    "            sizes = [min(shares[i], sizes[i]) for i in range(0, len(shares))]\n",
    "            if profit > max_profit:\n",
    "                max_profit = profit\n",
    "                best_sizes = sizes\n",
    "                best_trades = trades\n",
    "        if best_trades is None:\n",
    "            outstr += str(t.strftime(\"%m/%d/%y;%I:%M%p\")) + \";BUY,;SELL,;$0;0\" + '\\n'\n",
    "        else:\n",
    "            buys = []\n",
    "            sells = []\n",
    "            for i in range(len(best_trades)):\n",
    "                if \"Bid\" in best_trades[i]:\n",
    "                    # This is a sell\n",
    "                    sells.append((best_trades[i], best_sizes[i])) \n",
    "                elif \"Ask\" in best_trades[i]:\n",
    "                    # This is a buy \n",
    "                    buys.append((best_trades[i], best_sizes[i]))\n",
    "\n",
    "            buy_str = \";BUY,\"\n",
    "            for trade in buys:\n",
    "                buy_str += \"{}-{}\".format(trade[0], trade[1])\n",
    "            sell_str = \";SELL,\"\n",
    "            for trade in sells:\n",
    "                sell_str += \"{}-{}\".format(trade[0], trade[1])\n",
    "            outstr += str(t.strftime(\"%m/%d/%y;%I:%M%p\")) + buy_str + sell_str + \";{};{}\".format(max_profit, 0) + \"\\n\"\n",
    "\n",
    "        portfolio_value += max_profit\n",
    "        portfolio_values.append(portfolio_value)\n",
    "\n",
    "    return((portfolio_value, outstr, portfolio_values))\n",
    "value, out, y = new_method()\n",
    "print(\"${}\".format(round(value, 2)))\n",
    "f = open(\"output.txt\", 'w')\n",
    "f.write(out)\n",
    "f.close()"
   ]
  },
  {
   "cell_type": "code",
   "execution_count": 76,
   "metadata": {},
   "outputs": [],
   "source": [
    "import matplotlib.pyplot as plt\n",
    "x = times\n",
    "\n",
    "plt.plot(x, y)\n",
    "plt.xlabel(\"Time (Month-Day Hour)\")\n",
    "plt.ylabel(\"Profit (USD)\")\n",
    "plt.title(\"Profit of Portfolio Over Time\")\n",
    "fig = plt.gcf()\n",
    "fig.set_size_inches(18.5, 10.5)\n",
    "fig.savefig(\"fig.png\", dpi = 500)\n",
    "plt.show()\n",
    "\n",
    "\n",
    "    "
   ]
  }
 ],
 "metadata": {
  "interpreter": {
   "hash": "31f2aee4e71d21fbe5cf8b01ff0e069b9275f58929596ceb00d14d90e3e16cd6"
  },
  "kernelspec": {
   "display_name": "Python 3.6.9 64-bit",
   "name": "python3"
  },
  "language_info": {
   "codemirror_mode": {
    "name": "ipython",
    "version": 3
   },
   "file_extension": ".py",
   "mimetype": "text/x-python",
   "name": "python",
   "nbconvert_exporter": "python",
   "pygments_lexer": "ipython3",
   "version": "3.6.9"
  },
  "orig_nbformat": 4
 },
 "nbformat": 4,
 "nbformat_minor": 2
}
