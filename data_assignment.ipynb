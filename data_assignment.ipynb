{
 "cells": [
  {
   "cell_type": "markdown",
   "metadata": {},
   "source": []
  },
  {
   "cell_type": "code",
   "execution_count": null,
   "metadata": {},
   "outputs": [],
   "source": [
    "# For Reference \n",
    "# Date;Time;BTC/USD Bid;BTC/USD Bid Size;BTC/USD Ask;BTC/USD Ask Size;BTC/EUR Bid;BTC/EUR Bid Size;BTC/EUR Ask;BTC/EUR Ask Size;ETH/BTC Bid;ETH/BTC Bid Size;ETH/BTC Ask;ETH/BTC Ask Size;EUR/USD Bid;EUR/USD Bid Size;EUR/USD Ask;EUR/USD Ask Size;ETH/USD Bid;ETH/USD Bid Size;ETH/USD Ask;ETH/USD Ask Size;ETH/EUR Bid;ETH/EUR Bid Size;ETH/EUR Ask;ETH/EUR Ask Size"
   ]
  },
  {
   "cell_type": "code",
   "execution_count": null,
   "metadata": {},
   "outputs": [],
   "source": [
    "# Note datetime is the module name, but datetime is a class two. To call the datetime class use datetime.datetime\n",
    "import datetime"
   ]
  },
  {
   "cell_type": "code",
   "execution_count": null,
   "metadata": {},
   "outputs": [],
   "source": [
    "def remove_from_str(s, substrings_to_remove) -> str:\n",
    "    \"\"\"\n",
    "    Pretty inefficient but whatever.\n",
    "    Use regex for speedup.\n",
    "    \"\"\"\n",
    "    ret = s\n",
    "    for sub in substrings_to_remove:\n",
    "        ret = ret.replace(sub, \"\")\n",
    "    return(ret)"
   ]
  },
  {
   "cell_type": "code",
   "execution_count": null,
   "metadata": {},
   "outputs": [],
   "source": [
    "def next_interval(t: datetime.datetime) -> datetime.datetime:\n",
    "    \"\"\"\n",
    "    Return the next 5 minute interval\n",
    "    \"\"\"\n",
    "    return(t + datetime.timedelta(minutes=5))\n",
    "\n",
    "# print(datetime.datetime(2021, 9, 13, 12, 10))\n",
    "# print(next_interval(datetime.datetime(2021, 9, 13, 12, 10)))"
   ]
  },
  {
   "cell_type": "code",
   "execution_count": null,
   "metadata": {},
   "outputs": [],
   "source": [
    "chars_to_remove = {'$', '€', ',', \"BTC\"}\n",
    "f = open(\"Assignment 1 - Data.txt\", 'r')\n",
    "text = f.read()\n",
    "\n",
    "rows = text.split('\\n')"
   ]
  },
  {
   "cell_type": "code",
   "execution_count": null,
   "metadata": {},
   "outputs": [],
   "source": [
    "d = dict()\n",
    "t = []\n",
    "indexes = dict()\n",
    "\n",
    "columns = rows[0].split(';')\n",
    "\n",
    "for trade_type in columns[2:]:\n",
    "    d[trade_type] = dict()\n",
    "\n",
    "for i in range(len(columns)):\n",
    "    indexes[i] = columns[i] \n"
   ]
  },
  {
   "cell_type": "code",
   "execution_count": null,
   "metadata": {},
   "outputs": [],
   "source": [
    "#Setting up dictionary for easy lookup\n",
    "for row in rows[1:]:\n",
    "    split = row.split(';')\n",
    "    # print(split)\n",
    "    for i in range(len(split)):\n",
    "        if i == 0:\n",
    "            date = split[i]\n",
    "        elif i == 1:\n",
    "            time_of_day = split[i]\n",
    "        else:\n",
    "            trade_time = datetime.datetime.strptime(date + ' ' + time_of_day, \"%m/%d/%Y %I:%M %p\")\n",
    "            trade_type = indexes[i]\n",
    "            d[trade_type][trade_time] = float(remove_from_str(split[i], chars_to_remove))\n",
    "\n",
    "            "
   ]
  },
  {
   "cell_type": "code",
   "execution_count": null,
   "metadata": {},
   "outputs": [],
   "source": [
    "#Setting up times and \n",
    "times = []\n",
    "for i in d:\n",
    "    for j in d[i]:\n",
    "        times.append(j)\n",
    "    break\n",
    "times.sort()\n",
    "\n",
    "#USD, EUR, BTC, ETH\n",
    "currency = [1000,0,0,0]"
   ]
  },
  {
   "cell_type": "code",
   "execution_count": null,
   "metadata": {},
   "outputs": [
    {
     "name": "stdout",
     "output_type": "stream",
     "text": [
      "09/13/21 12:00AM\n"
     ]
    }
   ],
   "source": [
    "total = 0\n",
    "\n",
    "numslots = len(times)\n",
    "buyBTC_USD = [0 for n in range(0, numslots-1)]\n",
    "buyBTC_EUR = [0 for n in range(0, numslots-1)]\n",
    "buyETH_BTC = [0 for n in range(0, numslots-1)]\n",
    "buyETH_USD = [0 for n in range(0, numslots-1)]\n",
    "buyETH_EUR = [0 for n in range(0, numslots-1)]\n",
    "#Compare if you can sell to bid by buying ask\n",
    "for i in range(0, numslots - 1):\n",
    "    if d['BTC/USD Bid'][times[i+1]] > d['BTC/USD Ask'][times[i]]:\n",
    "        buyBTC_USD[i] = d['BTC/USD Bid'][times[i+1]] * d['BTC/USD Ask Size'][times[i]] \\\n",
    "            - d['BTC/USD Ask'][times[i]] * d['BTC/USD Ask Size'][times[i]]\n",
    "        \n",
    "\n",
    "    if d['BTC/EUR Bid'][times[i+1]] > d['BTC/EUR Ask'][times[i]]:\n",
    "        buyBTC_EUR[i] = d['BTC/EUR Bid'][times[i+1]] - d['BTC/EUR Ask'][times[i]]\n",
    "\n",
    "    if d['ETH/BTC Bid'][times[i+1]] > d['ETH/BTC Ask'][times[i]]:\n",
    "        buyETH_BTC[i] = d['ETH/BTC Bid'][times[i+1]] - d['ETH/BTC Ask'][times[i]]\n",
    "\n",
    "    if d['ETH/USD Bid'][times[i+1]] > d['ETH/USD Ask'][times[i]]:\n",
    "        buyETH_USD[i] = d['ETH/USD Bid'][times[i+1]] - d['ETH/USD Ask'][times[i]]\n",
    "        \n",
    "    if d['ETH/EUR Bid'][times[i+1]] > d['ETH/EUR Ask'][times[i]]:\n",
    "        buyETH_EUR[i] = d['ETH/EUR Bid'][times[i+1]] - d['ETH/EUR Ask'][times[i]]\n",
    "\n",
    "#print(buyBTC_USD)\n",
    "#print(buybid)\n",
    "# for i in d:\n",
    "#     print(i)\n",
    "#     print(d[i])\n",
    "output = [[]]\n",
    "maxusd = [1000]\n",
    "stringoutput = ['']\n",
    "\n",
    "print(times[0].strftime(\"%m/%d/%y %I:%M%p\"))\n",
    "\n"
   ]
  },
  {
   "cell_type": "code",
   "execution_count": null,
   "metadata": {},
   "outputs": [],
   "source": [
    "\n",
    "def portfolio_value(prices, inventory):\n",
    "    #USD, EUR, BTC, ETH\n",
    "    usd_value = 0\n",
    "    for i in range(len(prices)):\n",
    "        usd_value += prices[i] * inventory[i]\n",
    "    return(usd_value)"
   ]
  },
  {
   "cell_type": "code",
   "execution_count": 47,
   "metadata": {},
   "outputs": [],
   "source": [
    "\n",
    "'''\n",
    "INVENTORY INDEX:\n",
    "0 = USD\n",
    "1 = EUR\n",
    "2 = BTC\n",
    "3 = ETH\n",
    "'''\n",
    "#transaction = ['BTC/USD Bid', 'BTC/USD Ask', 'BTC/EUR Bid', 'BTC/EUR Ask', 'ETH/BTC Bid', 'ETH/BTC Ask', 'EUR/USD Bid', 'EUR/USD Ask', 'ETH/USD Bid', 'ETH/USD Ask', 'ETH/EUR Bid', 'ETH/EUR Ask', 'Nothing']\n",
    "# We first get the minimum of each of the values of the currencies relative to USD. Once we do we can see if your portfolio has lost more than 1% of its value at the min. If so, then we stop searching the tree\n",
    "def combo(inventory, datetimeIndex, outputstring):\n",
    "    ####### HARD CODED CONTENT (MODIFY HERE LATER) #########\n",
    "    if portfolio_value([1, 1.18, 39651.80, 3162.61], inventory) < 990:\n",
    "        if inventory[0] > maxusd[0]:\n",
    "            maxusd[0] = inventory[0]\n",
    "            output[0] = inventory\n",
    "            stringoutput[0] = outputstring\n",
    "        return\n",
    "    ########################################################\n",
    "\n",
    "    if datetimeIndex == len(times):\n",
    "        if inventory[0] > maxusd[0]:\n",
    "            maxusd[0] = inventory[0]\n",
    "            output[0] = inventory\n",
    "            stringoutput[0] = outputstring\n",
    "        return\n",
    "    if inventory[0] > 0:\n",
    "        usd_tobuy_btc_total = min(d['BTC/USD Ask'][times[datetimeIndex]] * d['BTC/USD Ask Size'][times[datetimeIndex]], inventory[0])\n",
    "        btc_count = usd_tobuy_btc_total / d['BTC/USD Ask'][times[datetimeIndex]]\n",
    "        tempstring = outputstring + str(times[datetimeIndex].strftime(\"%m/%d/%y %I:%M%p\")) + ';BUY,BTC/USD-{};'.format(btc_count)\n",
    "        combo([inventory[0] - usd_tobuy_btc_total, inventory[1], inventory[2] + btc_count, inventory[3]], datetimeIndex + 1, tempstring)\n",
    "\n",
    "        usd_tobuy_eth_total = min(d['ETH/USD Ask'][times[datetimeIndex]] * d['ETH/USD Ask Size'][times[datetimeIndex]], inventory[0])\n",
    "        eth_count = usd_tobuy_eth_total / d['ETH/USD Ask'][times[datetimeIndex]]\n",
    "        tempstring = outputstring + str(times[datetimeIndex].strftime(\"%m/%d/%y %I:%M%p\")) + ';BUY,ETH/USD-{};'.format(eth_count)\n",
    "        combo([inventory[0] - usd_tobuy_eth_total, inventory[1], inventory[2], inventory[3] + eth_count], datetimeIndex + 1, tempstring)\n",
    "\n",
    "        usd_tobuy_eur_total = min(d['EUR/USD Ask'][times[datetimeIndex]] * d['EUR/USD Ask Size'][times[datetimeIndex]], inventory[0])\n",
    "        eur_count = usd_tobuy_eur_total / d['EUR/USD Ask'][times[datetimeIndex]]\n",
    "        tempstring = outputstring + str(times[datetimeIndex].strftime(\"%m/%d/%y %I:%M%p\")) + ';BUY,EUR/USD-{};'.format(eur_count)\n",
    "        combo([inventory[0] - usd_tobuy_eur_total, inventory[1] + eur_count, inventory[2], inventory[3]], datetimeIndex + 1, tempstring)\n",
    "\n",
    "    if inventory[1] > 0:\n",
    "        eur_tobuy_btc_total = min(d['BTC/EUR Ask'][times[datetimeIndex]] * d['BTC/EUR Ask Size'][times[datetimeIndex]], inventory[1])\n",
    "        btc_count = eur_tobuy_btc_total / d['BTC/EUR Ask'][times[datetimeIndex]]\n",
    "        tempstring = outputstring + str(times[datetimeIndex].strftime(\"%m/%d/%y %I:%M%p\")) + ';BUY,BTC/EUR-{};'.format(btc_count)\n",
    "        combo([inventory[0], inventory[1] - eur_tobuy_btc_total, inventory[2] + btc_count, inventory[3]], datetimeIndex + 1, tempstring)\n",
    "\n",
    "        eur_tobuy_eth_total = min(d['ETH/EUR Ask'][times[datetimeIndex]] * d['ETH/EUR Ask Size'][times[datetimeIndex]], inventory[1])\n",
    "        eth_count = eur_tobuy_eth_total / d['ETH/EUR Ask'][times[datetimeIndex]]\n",
    "        tempstring = outputstring + str(times[datetimeIndex].strftime(\"%m/%d/%y %I:%M%p\")) + ';BUY,ETH/EUR-{};'.format(eth_count)\n",
    "        combo([inventory[0], inventory[1] - eur_tobuy_eth_total, inventory[2], inventory[3] + eth_count], datetimeIndex + 1, tempstring)\n",
    "\n",
    "        eur_tobuy_usd_total = min(d['EUR/USD Bid Size'][times[datetimeIndex]] / d['EUR/USD Bid'][times[datetimeIndex]], inventory[1])\n",
    "        usd_count = eur_tobuy_usd_total * d['EUR/USD Bid'][times[datetimeIndex]]\n",
    "        tempstring = outputstring + str(times[datetimeIndex].strftime(\"%m/%d/%y %I:%M%p\")) + ';SELL,EUR/USD-{};'.format(usd_count)\n",
    "        combo([inventory[0] + usd_count, inventory[1] - eur_tobuy_usd_total, inventory[2], inventory[3]], datetimeIndex + 1, tempstring)\n",
    "\n",
    "    if inventory[2] > 0:\n",
    "        btc_tobuy_usd_total = min(d['BTC/USD Bid Size'][times[datetimeIndex]] / d['BTC/USD Bid'][times[datetimeIndex]], inventory[2])\n",
    "        usd_count = btc_tobuy_usd_total * d['BTC/USD Bid'][times[datetimeIndex]]\n",
    "        tempstring = outputstring + str(times[datetimeIndex].strftime(\"%m/%d/%y %I:%M%p\")) + ';SELL,BTC/USD-{};'.format(usd_count)\n",
    "        combo([inventory[0] + usd_count, inventory[1], inventory[2] - btc_tobuy_usd_total, inventory[3]], datetimeIndex + 1, tempstring)\n",
    "\n",
    "        btc_tobuy_eur_total = min(d['BTC/EUR Bid Size'][times[datetimeIndex]] / d['BTC/EUR Bid'][times[datetimeIndex]], inventory[2])\n",
    "        eur_count = btc_tobuy_eur_total * d['BTC/EUR Bid'][times[datetimeIndex]]\n",
    "        tempstring = outputstring + str(times[datetimeIndex].strftime(\"%m/%d/%y %I:%M%p\")) + ';SELL,BTC/EUR-{};'.format(eur_count)\n",
    "        combo([inventory[0], inventory[1] + eur_count, inventory[2] - btc_tobuy_eur_total, inventory[3]], datetimeIndex + 1, tempstring)\n",
    "\n",
    "        btc_tobuy_eth_total = min(d['ETH/BTC Ask'][times[datetimeIndex]] * d['ETH/BTC Ask Size'][times[datetimeIndex]], inventory[2])\n",
    "        eth_count = btc_tobuy_eth_total / d['BTC/EUR Ask'][times[datetimeIndex]]\n",
    "        tempstring = outputstring + str(times[datetimeIndex].strftime(\"%m/%d/%y %I:%M%p\")) + ';BUY,ETH/BTC-{};'.format(eth_count)\n",
    "        combo([inventory[0], inventory[1], inventory[2] - btc_tobuy_eth_total, inventory[3] + eth_count], datetimeIndex + 1, tempstring)\n",
    "    \n",
    "    if inventory[3] > 0:\n",
    "        eth_tobuy_usd_total = min(d['ETH/USD Bid Size'][times[datetimeIndex]] / d['ETH/USD Bid'][times[datetimeIndex]], inventory[3])\n",
    "        usd_count = eth_tobuy_usd_total * d['ETH/USD Bid'][times[datetimeIndex]]\n",
    "        tempstring = outputstring + str(times[datetimeIndex].strftime(\"%m/%d/%y %I:%M%p\")) + ';SELL,ETH/USD-{};'.format(usd_count)\n",
    "        combo([inventory[0] + usd_count, inventory[1], inventory[2], inventory[3] - eth_tobuy_usd_total], datetimeIndex + 1, tempstring)\n",
    "\n",
    "        eth_tobuy_eur_total = min(d['ETH/EUR Bid Size'][times[datetimeIndex]] / d['ETH/EUR Bid'][times[datetimeIndex]], inventory[3])\n",
    "        eur_count = eth_tobuy_eur_total * d['ETH/EUR Bid'][times[datetimeIndex]]\n",
    "        tempstring = outputstring + str(times[datetimeIndex].strftime(\"%m/%d/%y %I:%M%p\")) + ';SELL,ETH/EUR-{};'.format(eur_count)\n",
    "        combo([inventory[0], inventory[1] + eur_count, inventory[2], inventory[3] - eth_tobuy_usd_total], datetimeIndex + 1, tempstring)\n",
    "\n",
    "        eth_tobuy_btc_total = min(d['ETH/BTC Bid Size'][times[datetimeIndex]] / d['ETH/BTC Bid'][times[datetimeIndex]], inventory[3])\n",
    "        btc_count = eth_tobuy_btc_total * d['ETH/BTC Bid'][times[datetimeIndex]]\n",
    "        tempstring = outputstring + str(times[datetimeIndex].strftime(\"%m/%d/%y %I:%M%p\")) + ';SELL,ETH/BTC-{};'.format(btc_count)\n",
    "        combo([inventory[0], inventory[1], inventory[2] + btc_count, inventory[3] - eth_tobuy_btc_total], datetimeIndex + 1, tempstring)\n",
    "    \n",
    "    tempstring = outputstring + str(times[datetimeIndex].strftime(\"%m/%d/%y %I:%M%p\")) + ';DO NOTHING;'\n",
    "    combo(inventory, datetimeIndex + 1, tempstring)\n",
    "\n",
    "combo([1000,0,0,0],0,\"\")\n",
    "\n",
    "\n",
    "\n",
    "\n",
    "\n"
   ]
  },
  {
   "cell_type": "code",
   "execution_count": null,
   "metadata": {},
   "outputs": [
    {
     "name": "stdout",
     "output_type": "stream",
     "text": [
      "[[]] [''] yes\n"
     ]
    }
   ],
   "source": [
    "print(output,stringoutput, \"yes\")"
   ]
  }
 ],
 "metadata": {
  "interpreter": {
   "hash": "31f2aee4e71d21fbe5cf8b01ff0e069b9275f58929596ceb00d14d90e3e16cd6"
  },
  "kernelspec": {
   "display_name": "Python 3.8.9 64-bit",
   "name": "python3"
  },
  "language_info": {
   "codemirror_mode": {
    "name": "ipython",
    "version": 3
   },
   "file_extension": ".py",
   "mimetype": "text/x-python",
   "name": "python",
   "nbconvert_exporter": "python",
   "pygments_lexer": "ipython3",
   "version": "3.8.9"
  },
  "orig_nbformat": 4
 },
 "nbformat": 4,
 "nbformat_minor": 2
}
