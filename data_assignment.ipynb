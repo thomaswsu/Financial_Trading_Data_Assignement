{
 "cells": [
  {
   "cell_type": "markdown",
   "metadata": {},
   "source": []
  },
  {
   "cell_type": "code",
   "execution_count": 220,
   "metadata": {},
   "outputs": [],
   "source": [
    "# For Reference \n",
    "# Date;Time;BTC/USD Bid;BTC/USD Bid Size;BTC/USD Ask;BTC/USD Ask Size;BTC/EUR Bid;BTC/EUR Bid Size;BTC/EUR Ask;BTC/EUR Ask Size;ETH/BTC Bid;ETH/BTC Bid Size;ETH/BTC Ask;ETH/BTC Ask Size;EUR/USD Bid;EUR/USD Bid Size;EUR/USD Ask;EUR/USD Ask Size;ETH/USD Bid;ETH/USD Bid Size;ETH/USD Ask;ETH/USD Ask Size;ETH/EUR Bid;ETH/EUR Bid Size;ETH/EUR Ask;ETH/EUR Ask Size"
   ]
  },
  {
   "cell_type": "code",
   "execution_count": 221,
   "metadata": {},
   "outputs": [],
   "source": [
    "# Note datetime is the module name, but datetime is a class two. To call the datetime class use datetime.datetime\n",
    "import datetime"
   ]
  },
  {
   "cell_type": "code",
   "execution_count": 222,
   "metadata": {},
   "outputs": [],
   "source": [
    "def remove_from_str(s, substrings_to_remove) -> str:\n",
    "    \"\"\"\n",
    "    Pretty inefficient but whatever.\n",
    "    Use regex for speedup.\n",
    "    \"\"\"\n",
    "    ret = s\n",
    "    for sub in substrings_to_remove:\n",
    "        ret = ret.replace(sub, \"\")\n",
    "    return(ret)"
   ]
  },
  {
   "cell_type": "code",
   "execution_count": 223,
   "metadata": {},
   "outputs": [],
   "source": [
    "def next_interval(t: datetime.datetime) -> datetime.datetime:\n",
    "    \"\"\"\n",
    "    Return the next 5 minute interval\n",
    "    \"\"\"\n",
    "    return(t + datetime.timedelta(minutes=5))\n",
    "\n",
    "# print(datetime.datetime(2021, 9, 13, 12, 10))\n",
    "# print(next_interval(datetime.datetime(2021, 9, 13, 12, 10)))"
   ]
  },
  {
   "cell_type": "code",
   "execution_count": 224,
   "metadata": {},
   "outputs": [],
   "source": [
    "chars_to_remove = {'$', '€', ',', \"BTC\"}\n",
    "f = open(\"Assignment 1 - Data.txt\", 'r')\n",
    "text = f.read()\n",
    "\n",
    "rows = text.split('\\n')"
   ]
  },
  {
   "cell_type": "code",
   "execution_count": 225,
   "metadata": {},
   "outputs": [],
   "source": [
    "d = dict()\n",
    "t = []\n",
    "indexes = dict()\n",
    "\n",
    "columns = rows[0].split(';')\n",
    "\n",
    "for trade_type in columns[2:]:\n",
    "    d[trade_type] = dict()\n",
    "\n",
    "for i in range(len(columns)):\n",
    "    indexes[i] = columns[i] \n"
   ]
  },
  {
   "cell_type": "code",
   "execution_count": 226,
   "metadata": {},
   "outputs": [],
   "source": [
    "#Setting up dictionary for easy lookup\n",
    "for row in rows[1:]:\n",
    "    split = row.split(';')\n",
    "    # print(split)\n",
    "    for i in range(len(split)):\n",
    "        if i == 0:\n",
    "            date = split[i]\n",
    "        elif i == 1:\n",
    "            time_of_day = split[i]\n",
    "        else:\n",
    "            trade_time = datetime.datetime.strptime(date + ' ' + time_of_day, \"%m/%d/%Y %I:%M %p\")\n",
    "            trade_type = indexes[i]\n",
    "            d[trade_type][trade_time] = float(remove_from_str(split[i], chars_to_remove))\n",
    "\n",
    "            "
   ]
  },
  {
   "cell_type": "code",
   "execution_count": 227,
   "metadata": {},
   "outputs": [],
   "source": [
    "#Setting up times and \n",
    "times = []\n",
    "for i in d:\n",
    "    for j in d[i]:\n",
    "        times.append(j)\n",
    "    break\n",
    "times.sort()\n",
    "\n",
    "#USD, EUR, BTC, ETH\n",
    "currency = [1000,0,0,0]"
   ]
  },
  {
   "cell_type": "code",
   "execution_count": 228,
   "metadata": {},
   "outputs": [
    {
     "name": "stdout",
     "output_type": "stream",
     "text": [
      "09/13/21 12:00AM\n"
     ]
    }
   ],
   "source": [
    "total = 0\n",
    "\n",
    "numslots = len(times)\n",
    "buyBTC_USD = [0 for n in range(0, numslots-1)]\n",
    "buyBTC_EUR = [0 for n in range(0, numslots-1)]\n",
    "buyETH_BTC = [0 for n in range(0, numslots-1)]\n",
    "buyETH_USD = [0 for n in range(0, numslots-1)]\n",
    "buyETH_EUR = [0 for n in range(0, numslots-1)]\n",
    "#Compare if you can sell to bid by buying ask\n",
    "for i in range(0, numslots - 1):\n",
    "    if d['BTC/USD Bid'][times[i+1]] > d['BTC/USD Ask'][times[i]]:\n",
    "        buyBTC_USD[i] = d['BTC/USD Bid'][times[i+1]] * d['BTC/USD Ask Size'][times[i]] \\\n",
    "            - d['BTC/USD Ask'][times[i]] * d['BTC/USD Ask Size'][times[i]]\n",
    "        \n",
    "\n",
    "    if d['BTC/EUR Bid'][times[i+1]] > d['BTC/EUR Ask'][times[i]]:\n",
    "        buyBTC_EUR[i] = d['BTC/EUR Bid'][times[i+1]] - d['BTC/EUR Ask'][times[i]]\n",
    "\n",
    "    if d['ETH/BTC Bid'][times[i+1]] > d['ETH/BTC Ask'][times[i]]:\n",
    "        buyETH_BTC[i] = d['ETH/BTC Bid'][times[i+1]] - d['ETH/BTC Ask'][times[i]]\n",
    "\n",
    "    if d['ETH/USD Bid'][times[i+1]] > d['ETH/USD Ask'][times[i]]:\n",
    "        buyETH_USD[i] = d['ETH/USD Bid'][times[i+1]] - d['ETH/USD Ask'][times[i]]\n",
    "        \n",
    "    if d['ETH/EUR Bid'][times[i+1]] > d['ETH/EUR Ask'][times[i]]:\n",
    "        buyETH_EUR[i] = d['ETH/EUR Bid'][times[i+1]] - d['ETH/EUR Ask'][times[i]]\n",
    "\n",
    "#print(buyBTC_USD)\n",
    "#print(buybid)\n",
    "# for i in d:\n",
    "#     print(i)\n",
    "#     print(d[i])\n",
    "output = [[]]\n",
    "maxusd = [1000]\n",
    "stringoutput = ['']\n",
    "\n",
    "print(times[0].strftime(\"%m/%d/%y %I:%M%p\"))\n",
    "\n"
   ]
  },
  {
   "cell_type": "code",
   "execution_count": 229,
   "metadata": {},
   "outputs": [],
   "source": [
    "def portfolio_value(prices, inventory):\n",
    "    usd_value = 0\n",
    "    for i in range(len(prices)):\n",
    "        usd_value += prices[i] * inventory[i]\n",
    "    return(usd_value)"
   ]
  },
  {
   "cell_type": "code",
   "execution_count": 233,
   "metadata": {},
   "outputs": [
    {
     "ename": "SyntaxError",
     "evalue": "invalid syntax (2250540041.py, line 62)",
     "output_type": "error",
     "traceback": [
      "\u001b[0;36m  File \u001b[0;32m\"/var/folders/s4/kp5y4dr14d19trtzc9ydqxvm0000gn/T/ipykernel_91393/2250540041.py\"\u001b[0;36m, line \u001b[0;32m62\u001b[0m\n\u001b[0;31m    print(${}round(portfolio_value(end_prices, ans), 2))\u001b[0m\n\u001b[0m          ^\u001b[0m\n\u001b[0;31mSyntaxError\u001b[0m\u001b[0;31m:\u001b[0m invalid syntax\n"
     ]
    }
   ],
   "source": [
    "# Inventory: USD, EUR, BTC, ETH\n",
    "# GREEDY \n",
    "# Strategy is the choose the best trade that yields the most profit base on the ending prices of all the assets relative to USD. The most profitable trade is measured by price of the asset and the of asset.  \n",
    "end_prices = [1, 1.16, 24135.56, 2941.99] # End prices in USD\n",
    "orders = [\"BTC/USD Bid\", \"BTC/USD Ask\", \"BTC/EUR Bid\", \"BTC/EUR Ask\", \"ETH/BTC Bid\", \"ETH/BTC Ask\", \"EUR/USD Bid\", \"EUR/USD Ask\", \"ETH/USD Bid\", \"ETH/USD Ask\", \"ETH/EUR Bid\", \"ETH/EUR Ask\"]\n",
    "# This is the indexes each currency corresponds to in the orders array\n",
    "conversions = {0 : (1, 7, 9), 1 : (3, 6, 11,), 2: (0, 2, 5), 3: (4, 8, 10)} # Ex: USD is converted in \"BTC/USD Ask\",  \"EUR/USD Ask\", \"ETH/USD Ask\"\n",
    "# This is to convert a string back into a index\n",
    "currencies = {\"USD\" : 0, \"EUR\" : 1, \"BTC\" : 2, \"ETH\" : 3}\n",
    "inventories = [] # Plz append inventory to inventories\n",
    "def calculate_with_end_prices(end_prices, inventory):\n",
    "    for t in times:\n",
    "        max_profit = 0\n",
    "        max_profit_trade = None\n",
    "        max_profit_volume = 0\n",
    "        max_profit_ratio = None\n",
    "        for order in orders: \n",
    "            order_kind = order\n",
    "            order_kind_size = order_kind + \" Size\"\n",
    "            # print(order_kind)\n",
    "            if \"Bid\" in order_kind:\n",
    "                # Ex BTC/USD Bid * BTC/USD Bid Size = $48,064.80 * 9.4296 in BTC to be sold \n",
    "                # Ex \"ETH/EUR Bid\"\n",
    "                start_currency = order_kind[:3]\n",
    "                end_currency = order_kind[4:7] # Currency we will get by selling start currency \n",
    "                max_volume = min(inventory[currencies[start_currency]], d[order_kind_size][t]) # Volume relative to start \n",
    "                profit = d[order_kind][t]  * max_volume * end_prices[currencies[end_currency]] - max_volume * end_prices[currencies[start_currency]]\n",
    "            elif \"Ask\" in order_kind:\n",
    "                # This is where we buy the denominator\n",
    "                # BTC/USD Ask * BTC/USD Ask Size = $48,269.41 * 18.2923 in BTC to be bought \n",
    "                start_currency = order_kind[4:7]\n",
    "                end_currency = order_kind[:3]\n",
    "                max_volume = min(inventory[currencies[start_currency]], d[order_kind][t] * d[order_kind_size][t])\n",
    "                profit = 1 / d[order_kind][t] * max_volume * end_prices[currencies[end_currency]] - max_volume * end_prices[currencies[start_currency]]\n",
    "            if profit > max_profit:\n",
    "                max_profit = profit\n",
    "                max_profit_trade = order_kind\n",
    "                max_profit_volume = max_volume\n",
    "                max_profit_ratio = d[order_kind][t]\n",
    "\n",
    "        # Calculate change in inventory \n",
    "        if max_profit_trade == None: # No profitable trade \n",
    "            pass\n",
    "        elif \"Bid\" in max_profit_trade:\n",
    "            increase = max_profit_trade[4:7]\n",
    "            decrease = max_profit_trade[:3]\n",
    "            inventory[currencies[increase]] += max_profit_volume * max_profit_ratio\n",
    "            inventory[currencies[decrease]] -= max_profit_volume\n",
    "        elif \"Ask\" in max_profit_trade:\n",
    "            increase = max_profit_trade[:3]\n",
    "            decrease = max_profit_trade[4:7]\n",
    "            print(max_profit_volume)\n",
    "            inventory[currencies[increase]] += max_profit_volume / max_profit_ratio\n",
    "            inventory[currencies[decrease]] -= max_profit_volume\n",
    "        print(inventory, max_profit_trade, max_profit)\n",
    "        inventories.append(inventory.copy())\n",
    "    return(inventory)\n",
    "\n",
    "ans = calculate_with_end_prices(end_prices, [1000, 0, 0, 0])\n",
    "print(ans)\n",
    "# Hack to calculate portfolio price \n",
    "print(portfolio_value(end_prices, ans))\n",
    "    "
   ]
  },
  {
   "cell_type": "code",
   "execution_count": 231,
   "metadata": {},
   "outputs": [
    {
     "data": {
      "image/png": "[encoded data removed]",
      "text/plain": [
       "<Figure size 1332x756 with 1 Axes>"
      ]
     },
     "metadata": {
      "needs_background": "light"
     },
     "output_type": "display_data"
    }
   ],
   "source": [
    "import matplotlib.pyplot as plt\n",
    "\n",
    "y = []\n",
    "for item in inventories:\n",
    "    y.append(portfolio_value(end_prices, item))\n",
    "x = times\n",
    "\n",
    "plt.plot(x, y)\n",
    "# plt.yscale('log')\n",
    "plt.xlabel(\"Time\")\n",
    "plt.ylabel(\"Profit\")\n",
    "fig = plt.gcf()\n",
    "fig.set_size_inches(18.5, 10.5)\n",
    "fig.savefig(\"fig.png\", dpi = 500)\n",
    "plt.show()\n",
    "\n",
    "\n",
    "    "
   ]
  },
  {
   "cell_type": "code",
   "execution_count": 232,
   "metadata": {},
   "outputs": [],
   "source": [
    "# '''\n",
    "# INVENTORY INDEX:\n",
    "# 0 = USD\n",
    "# 1 = EUR\n",
    "# 2 = BTC\n",
    "# 3 = ETH\n",
    "# '''\n",
    "# #transaction = ['BTC/USD Bid', 'BTC/USD Ask', 'BTC/EUR Bid', 'BTC/EUR Ask', 'ETH/BTC Bid', 'ETH/BTC Ask', 'EUR/USD Bid', 'EUR/USD Ask', 'ETH/USD Bid', 'ETH/USD Ask', 'ETH/EUR Bid', 'ETH/EUR Ask', 'Nothing']\n",
    "# # We first get the minimum of each of the values of the currencies relative to USD. Once we do we can see if your portfolio has lost more than 1% of its value at the min. If so, then we stop searching the tree\n",
    "# def combo(inventory, datetimeIndex, outputstring):\n",
    "#     ####### HARD CODED CONTENT (MODIFY HERE LATER) #########\n",
    "#     if portfolio_value([1, 1.18, 39651.80, 3162.61], inventory) < 990:\n",
    "#         if inventory[0] > maxusd[0]:\n",
    "#             maxusd[0] = inventory[0]\n",
    "#             output[0] = inventory\n",
    "#             stringoutput[0] = outputstring\n",
    "#         return\n",
    "#     ########################################################\n",
    "\n",
    "#     if datetimeIndex == len(times):\n",
    "#         if inventory[0] > maxusd[0]:\n",
    "#             maxusd[0] = inventory[0]\n",
    "#             output[0] = inventory\n",
    "#             stringoutput[0] = outputstring\n",
    "#         return\n",
    "#     if inventory[0] > 0:\n",
    "#         usd_tobuy_btc_total = min(d['BTC/USD Ask'][times[datetimeIndex]] * d['BTC/USD Ask Size'][times[datetimeIndex]], inventory[0])\n",
    "#         btc_count = usd_tobuy_btc_total / d['BTC/USD Ask'][times[datetimeIndex]]\n",
    "#         tempstring = outputstring + str(times[datetimeIndex].strftime(\"%m/%d/%y %I:%M%p\")) + ';BUY,BTC/USD-{};'.format(btc_count)\n",
    "#         combo([inventory[0] - usd_tobuy_btc_total, inventory[1], inventory[2] + btc_count, inventory[3]], datetimeIndex + 1, tempstring)\n",
    "\n",
    "#         usd_tobuy_eth_total = min(d['ETH/USD Ask'][times[datetimeIndex]] * d['ETH/USD Ask Size'][times[datetimeIndex]], inventory[0])\n",
    "#         eth_count = usd_tobuy_eth_total / d['ETH/USD Ask'][times[datetimeIndex]]\n",
    "#         tempstring = outputstring + str(times[datetimeIndex].strftime(\"%m/%d/%y %I:%M%p\")) + ';BUY,ETH/USD-{};'.format(eth_count)\n",
    "#         combo([inventory[0] - usd_tobuy_eth_total, inventory[1], inventory[2], inventory[3] + eth_count], datetimeIndex + 1, tempstring)\n",
    "\n",
    "#         usd_tobuy_eur_total = min(d['EUR/USD Ask'][times[datetimeIndex]] * d['EUR/USD Ask Size'][times[datetimeIndex]], inventory[0])\n",
    "#         eur_count = usd_tobuy_eur_total / d['EUR/USD Ask'][times[datetimeIndex]]\n",
    "#         tempstring = outputstring + str(times[datetimeIndex].strftime(\"%m/%d/%y %I:%M%p\")) + ';BUY,EUR/USD-{};'.format(eur_count)\n",
    "#         combo([inventory[0] - usd_tobuy_eur_total, inventory[1] + eur_count, inventory[2], inventory[3]], datetimeIndex + 1, tempstring)\n",
    "\n",
    "#     if inventory[1] > 0:\n",
    "#         eur_tobuy_btc_total = min(d['BTC/EUR Ask'][times[datetimeIndex]] * d['BTC/EUR Ask Size'][times[datetimeIndex]], inventory[1])\n",
    "#         btc_count = eur_tobuy_btc_total / d['BTC/EUR Ask'][times[datetimeIndex]]\n",
    "#         tempstring = outputstring + str(times[datetimeIndex].strftime(\"%m/%d/%y %I:%M%p\")) + ';BUY,BTC/EUR-{};'.format(btc_count)\n",
    "#         combo([inventory[0], inventory[1] - eur_tobuy_btc_total, inventory[2] + btc_count, inventory[3]], datetimeIndex + 1, tempstring)\n",
    "\n",
    "#         eur_tobuy_eth_total = min(d['ETH/EUR Ask'][times[datetimeIndex]] * d['ETH/EUR Ask Size'][times[datetimeIndex]], inventory[1])\n",
    "#         eth_count = eur_tobuy_eth_total / d['ETH/EUR Ask'][times[datetimeIndex]]\n",
    "#         tempstring = outputstring + str(times[datetimeIndex].strftime(\"%m/%d/%y %I:%M%p\")) + ';BUY,ETH/EUR-{};'.format(eth_count)\n",
    "#         combo([inventory[0], inventory[1] - eur_tobuy_eth_total, inventory[2], inventory[3] + eth_count], datetimeIndex + 1, tempstring)\n",
    "\n",
    "#         eur_tobuy_usd_total = min(d['EUR/USD Bid Size'][times[datetimeIndex]] / d['EUR/USD Bid'][times[datetimeIndex]], inventory[1])\n",
    "#         usd_count = eur_tobuy_usd_total * d['EUR/USD Bid'][times[datetimeIndex]]\n",
    "#         tempstring = outputstring + str(times[datetimeIndex].strftime(\"%m/%d/%y %I:%M%p\")) + ';SELL,EUR/USD-{};'.format(usd_count)\n",
    "#         combo([inventory[0] + usd_count, inventory[1] - eur_tobuy_usd_total, inventory[2], inventory[3]], datetimeIndex + 1, tempstring)\n",
    "\n",
    "#     if inventory[2] > 0:\n",
    "#         btc_tobuy_usd_total = min(d['BTC/USD Bid Size'][times[datetimeIndex]] / d['BTC/USD Bid'][times[datetimeIndex]], inventory[2])\n",
    "#         usd_count = btc_tobuy_usd_total * d['BTC/USD Bid'][times[datetimeIndex]]\n",
    "#         tempstring = outputstring + str(times[datetimeIndex].strftime(\"%m/%d/%y %I:%M%p\")) + ';SELL,BTC/USD-{};'.format(usd_count)\n",
    "#         combo([inventory[0] + usd_count, inventory[1], inventory[2] - btc_tobuy_usd_total, inventory[3]], datetimeIndex + 1, tempstring)\n",
    "\n",
    "#         btc_tobuy_eur_total = min(d['BTC/EUR Bid Size'][times[datetimeIndex]] / d['BTC/EUR Bid'][times[datetimeIndex]], inventory[2])\n",
    "#         eur_count = btc_tobuy_eur_total * d['BTC/EUR Bid'][times[datetimeIndex]]\n",
    "#         tempstring = outputstring + str(times[datetimeIndex].strftime(\"%m/%d/%y %I:%M%p\")) + ';SELL,BTC/EUR-{};'.format(eur_count)\n",
    "#         combo([inventory[0], inventory[1] + eur_count, inventory[2] - btc_tobuy_eur_total, inventory[3]], datetimeIndex + 1, tempstring)\n",
    "\n",
    "#         btc_tobuy_eth_total = min(d['ETH/BTC Ask'][times[datetimeIndex]] * d['ETH/BTC Ask Size'][times[datetimeIndex]], inventory[2])\n",
    "#         eth_count = btc_tobuy_eth_total / d['BTC/EUR Ask'][times[datetimeIndex]]\n",
    "#         tempstring = outputstring + str(times[datetimeIndex].strftime(\"%m/%d/%y %I:%M%p\")) + ';BUY,ETH/BTC-{};'.format(eth_count)\n",
    "#         combo([inventory[0], inventory[1], inventory[2] - btc_tobuy_eth_total, inventory[3] + eth_count], datetimeIndex + 1, tempstring)\n",
    "    \n",
    "#     if inventory[3] > 0:\n",
    "#         eth_tobuy_usd_total = min(d['ETH/USD Bid Size'][times[datetimeIndex]] / d['ETH/USD Bid'][times[datetimeIndex]], inventory[3])\n",
    "#         usd_count = eth_tobuy_usd_total * d['ETH/USD Bid'][times[datetimeIndex]]\n",
    "#         tempstring = outputstring + str(times[datetimeIndex].strftime(\"%m/%d/%y %I:%M%p\")) + ';SELL,ETH/USD-{};'.format(usd_count)\n",
    "#         combo([inventory[0] + usd_count, inventory[1], inventory[2], inventory[3] - eth_tobuy_usd_total], datetimeIndex + 1, tempstring)\n",
    "\n",
    "#         eth_tobuy_eur_total = min(d['ETH/EUR Bid Size'][times[datetimeIndex]] / d['ETH/EUR Bid'][times[datetimeIndex]], inventory[3])\n",
    "#         eur_count = eth_tobuy_eur_total * d['ETH/EUR Bid'][times[datetimeIndex]]\n",
    "#         tempstring = outputstring + str(times[datetimeIndex].strftime(\"%m/%d/%y %I:%M%p\")) + ';SELL,ETH/EUR-{};'.format(eur_count)\n",
    "#         combo([inventory[0], inventory[1] + eur_count, inventory[2], inventory[3] - eth_tobuy_usd_total], datetimeIndex + 1, tempstring)\n",
    "\n",
    "#         eth_tobuy_btc_total = min(d['ETH/BTC Bid Size'][times[datetimeIndex]] / d['ETH/BTC Bid'][times[datetimeIndex]], inventory[3])\n",
    "#         btc_count = eth_tobuy_btc_total * d['ETH/BTC Bid'][times[datetimeIndex]]\n",
    "#         tempstring = outputstring + str(times[datetimeIndex].strftime(\"%m/%d/%y %I:%M%p\")) + ';SELL,ETH/BTC-{};'.format(btc_count)\n",
    "#         combo([inventory[0], inventory[1], inventory[2] + btc_count, inventory[3] - eth_tobuy_btc_total], datetimeIndex + 1, tempstring)\n",
    "    \n",
    "#     tempstring = outputstring + str(times[datetimeIndex].strftime(\"%m/%d/%y %I:%M%p\")) + ';DO NOTHING;'\n",
    "#     combo(inventory, datetimeIndex + 1, tempstring)\n",
    "\n",
    "# combo([1000,0,0,0],0,\"\")\n",
    "\n",
    "\n",
    "\n",
    "\n",
    "\n"
   ]
  },
  {
   "cell_type": "code",
   "execution_count": 219,
   "metadata": {},
   "outputs": [
    {
     "name": "stdout",
     "output_type": "stream",
     "text": [
      "[[]] [''] yes\n"
     ]
    }
   ],
   "source": [
    "print(output,stringoutput, \"yes\")"
   ]
  }
 ],
 "metadata": {
  "interpreter": {
   "hash": "31f2aee4e71d21fbe5cf8b01ff0e069b9275f58929596ceb00d14d90e3e16cd6"
  },
  "kernelspec": {
   "display_name": "Python 3.6.9 64-bit",
   "name": "python3"
  },
  "language_info": {
   "codemirror_mode": {
    "name": "ipython",
    "version": 3
   },
   "file_extension": ".py",
   "mimetype": "text/x-python",
   "name": "python",
   "nbconvert_exporter": "python",
   "pygments_lexer": "ipython3",
   "version": "3.6.9"
  },
  "orig_nbformat": 4
 },
 "nbformat": 4,
 "nbformat_minor": 2
}
