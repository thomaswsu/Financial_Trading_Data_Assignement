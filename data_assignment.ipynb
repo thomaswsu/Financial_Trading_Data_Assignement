{
 "cells": [
  {
   "cell_type": "markdown",
   "metadata": {},
   "source": []
  },
  {
   "cell_type": "code",
   "execution_count": 172,
   "metadata": {},
   "outputs": [],
   "source": [
    "# For Reference \n",
    "# Date;Time;BTC/USD Bid;BTC/USD Bid Size;BTC/USD Ask;BTC/USD Ask Size;BTC/EUR Bid;BTC/EUR Bid Size;BTC/EUR Ask;BTC/EUR Ask Size;ETH/BTC Bid;ETH/BTC Bid Size;ETH/BTC Ask;ETH/BTC Ask Size;EUR/USD Bid;EUR/USD Bid Size;EUR/USD Ask;EUR/USD Ask Size;ETH/USD Bid;ETH/USD Bid Size;ETH/USD Ask;ETH/USD Ask Size;ETH/EUR Bid;ETH/EUR Bid Size;ETH/EUR Ask;ETH/EUR Ask Size"
   ]
  },
  {
   "cell_type": "code",
   "execution_count": 173,
   "metadata": {},
   "outputs": [],
   "source": [
    "# Note datetime is the module name, but datetime is a class two. To call the datetime class use datetime.datetime\n",
    "import datetime"
   ]
  },
  {
   "cell_type": "code",
   "execution_count": 174,
   "metadata": {},
   "outputs": [],
   "source": [
    "def remove_from_str(s, substrings_to_remove) -> str:\n",
    "    \"\"\"\n",
    "    Pretty inefficient but whatever.\n",
    "    Use regex for speedup.\n",
    "    \"\"\"\n",
    "    ret = s\n",
    "    for sub in substrings_to_remove:\n",
    "        ret = ret.replace(sub, \"\")\n",
    "    return(ret)"
   ]
  },
  {
   "cell_type": "code",
   "execution_count": 175,
   "metadata": {},
   "outputs": [],
   "source": [
    "def next_interval(t: datetime.datetime) -> datetime.datetime:\n",
    "    \"\"\"\n",
    "    Return the next 5 minute interval\n",
    "    \"\"\"\n",
    "    return(t + datetime.timedelta(minutes=5))\n",
    "\n",
    "# print(datetime.datetime(2021, 9, 13, 12, 10))\n",
    "# print(next_interval(datetime.datetime(2021, 9, 13, 12, 10)))"
   ]
  },
  {
   "cell_type": "code",
   "execution_count": 176,
   "metadata": {},
   "outputs": [],
   "source": [
    "chars_to_remove = {'$', '€', ',', \"BTC\"}\n",
    "f = open(\"Assignment 1 - Data.txt\", 'r')\n",
    "text = f.read()\n",
    "\n",
    "rows = text.split('\\n')"
   ]
  },
  {
   "cell_type": "code",
   "execution_count": 177,
   "metadata": {},
   "outputs": [],
   "source": [
    "d = dict()\n",
    "t = []\n",
    "indexes = dict()\n",
    "\n",
    "columns = rows[0].split(';')\n",
    "\n",
    "for trade_type in columns[2:]:\n",
    "    d[trade_type] = dict()\n",
    "\n",
    "for i in range(len(columns)):\n",
    "    indexes[i] = columns[i] \n"
   ]
  },
  {
   "cell_type": "code",
   "execution_count": 178,
   "metadata": {},
   "outputs": [],
   "source": [
    "#Setting up dictionary for easy lookup\n",
    "for row in rows[1:]:\n",
    "    split = row.split(';')\n",
    "    # print(split)\n",
    "    for i in range(len(split)):\n",
    "        if i == 0:\n",
    "            date = split[i]\n",
    "        elif i == 1:\n",
    "            time_of_day = split[i]\n",
    "        else:\n",
    "            trade_time = datetime.datetime.strptime(date + ' ' + time_of_day, \"%m/%d/%Y %I:%M %p\")\n",
    "            trade_type = indexes[i]\n",
    "            d[trade_type][trade_time] = float(remove_from_str(split[i], chars_to_remove))\n",
    "\n",
    "            "
   ]
  },
  {
   "cell_type": "code",
   "execution_count": 179,
   "metadata": {},
   "outputs": [],
   "source": [
    "#Setting up times and \n",
    "times = []\n",
    "for i in d:\n",
    "    for j in d[i]:\n",
    "        times.append(j)\n",
    "    break\n",
    "times.sort()\n",
    "\n",
    "#USD, EUR, BTC, ETH\n",
    "currency = [1000,0,0,0]"
   ]
  },
  {
   "cell_type": "code",
   "execution_count": 180,
   "metadata": {},
   "outputs": [
    {
     "name": "stdout",
     "output_type": "stream",
     "text": [
      "09/13/21 12:00AM\n"
     ]
    }
   ],
   "source": [
    "total = 0\n",
    "\n",
    "numslots = len(times)\n",
    "buyBTC_USD = [0 for n in range(0, numslots-1)]\n",
    "buyBTC_EUR = [0 for n in range(0, numslots-1)]\n",
    "buyETH_BTC = [0 for n in range(0, numslots-1)]\n",
    "buyETH_USD = [0 for n in range(0, numslots-1)]\n",
    "buyETH_EUR = [0 for n in range(0, numslots-1)]\n",
    "#Compare if you can sell to bid by buying ask\n",
    "for i in range(0, numslots - 1):\n",
    "    if d['BTC/USD Bid'][times[i+1]] > d['BTC/USD Ask'][times[i]]:\n",
    "        buyBTC_USD[i] = d['BTC/USD Bid'][times[i+1]] * d['BTC/USD Ask Size'][times[i]] \\\n",
    "            - d['BTC/USD Ask'][times[i]] * d['BTC/USD Ask Size'][times[i]]\n",
    "        \n",
    "\n",
    "    if d['BTC/EUR Bid'][times[i+1]] > d['BTC/EUR Ask'][times[i]]:\n",
    "        buyBTC_EUR[i] = d['BTC/EUR Bid'][times[i+1]] - d['BTC/EUR Ask'][times[i]]\n",
    "\n",
    "    if d['ETH/BTC Bid'][times[i+1]] > d['ETH/BTC Ask'][times[i]]:\n",
    "        buyETH_BTC[i] = d['ETH/BTC Bid'][times[i+1]] - d['ETH/BTC Ask'][times[i]]\n",
    "\n",
    "    if d['ETH/USD Bid'][times[i+1]] > d['ETH/USD Ask'][times[i]]:\n",
    "        buyETH_USD[i] = d['ETH/USD Bid'][times[i+1]] - d['ETH/USD Ask'][times[i]]\n",
    "        \n",
    "    if d['ETH/EUR Bid'][times[i+1]] > d['ETH/EUR Ask'][times[i]]:\n",
    "        buyETH_EUR[i] = d['ETH/EUR Bid'][times[i+1]] - d['ETH/EUR Ask'][times[i]]\n",
    "\n",
    "#print(buyBTC_USD)\n",
    "#print(buybid)\n",
    "# for i in d:\n",
    "#     print(i)\n",
    "#     print(d[i])\n",
    "output = [[]]\n",
    "maxusd = [1000]\n",
    "stringoutput = ['']\n",
    "\n",
    "print(times[0].strftime(\"%m/%d/%y %I:%M%p\"))\n",
    "\n"
   ]
  },
  {
   "cell_type": "code",
   "execution_count": 181,
   "metadata": {},
   "outputs": [],
   "source": [
    "\n",
    "def portfolio_value(prices, inventory):\n",
    "    usd_value = 0\n",
    "    for i in range(len(prices)):\n",
    "        usd_value += prices[i] * inventory[i]\n",
    "    return(usd_value)"
   ]
  },
  {
   "cell_type": "code",
   "execution_count": 182,
   "metadata": {},
   "outputs": [
    {
     "ename": "TypeError",
     "evalue": "list indices must be integers or slices, not str",
     "output_type": "error",
     "traceback": [
      "\u001b[0;31m---------------------------------------------------------------------------\u001b[0m",
      "\u001b[0;31mTypeError\u001b[0m                                 Traceback (most recent call last)",
      "\u001b[0;32m/var/folders/s4/kp5y4dr14d19trtzc9ydqxvm0000gn/T/ipykernel_78892/2666284229.py\u001b[0m in \u001b[0;36m<module>\u001b[0;34m\u001b[0m\n\u001b[1;32m     46\u001b[0m     \u001b[0;32mreturn\u001b[0m\u001b[0;34m(\u001b[0m\u001b[0minventory\u001b[0m\u001b[0;34m)\u001b[0m\u001b[0;34m\u001b[0m\u001b[0;34m\u001b[0m\u001b[0m\n\u001b[1;32m     47\u001b[0m \u001b[0;34m\u001b[0m\u001b[0m\n\u001b[0;32m---> 48\u001b[0;31m \u001b[0mans\u001b[0m \u001b[0;34m=\u001b[0m \u001b[0mcalculate_with_end_prices\u001b[0m\u001b[0;34m(\u001b[0m\u001b[0mend_prices\u001b[0m\u001b[0;34m,\u001b[0m \u001b[0;34m[\u001b[0m\u001b[0;36m1000\u001b[0m\u001b[0;34m,\u001b[0m \u001b[0;36m0\u001b[0m\u001b[0;34m,\u001b[0m \u001b[0;36m0\u001b[0m\u001b[0;34m,\u001b[0m \u001b[0;36m0\u001b[0m\u001b[0;34m]\u001b[0m\u001b[0;34m)\u001b[0m\u001b[0;34m\u001b[0m\u001b[0;34m\u001b[0m\u001b[0m\n\u001b[0m\u001b[1;32m     49\u001b[0m \u001b[0mprint\u001b[0m\u001b[0;34m(\u001b[0m\u001b[0mportfolio_value\u001b[0m\u001b[0;34m(\u001b[0m\u001b[0mend_prices\u001b[0m\u001b[0;34m,\u001b[0m \u001b[0mans\u001b[0m\u001b[0;34m)\u001b[0m\u001b[0;34m)\u001b[0m\u001b[0;34m\u001b[0m\u001b[0;34m\u001b[0m\u001b[0m\n\u001b[1;32m     50\u001b[0m \u001b[0;34m\u001b[0m\u001b[0m\n",
      "\u001b[0;32m/var/folders/s4/kp5y4dr14d19trtzc9ydqxvm0000gn/T/ipykernel_78892/2666284229.py\u001b[0m in \u001b[0;36mcalculate_with_end_prices\u001b[0;34m(end_prices, inventory)\u001b[0m\n\u001b[1;32m     21\u001b[0m                         \u001b[0mend_currency\u001b[0m \u001b[0;34m=\u001b[0m \u001b[0morder_kind\u001b[0m\u001b[0;34m[\u001b[0m\u001b[0;36m4\u001b[0m\u001b[0;34m:\u001b[0m\u001b[0;36m7\u001b[0m\u001b[0;34m]\u001b[0m \u001b[0;31m# Currency we will get be selling\u001b[0m\u001b[0;34m\u001b[0m\u001b[0;34m\u001b[0m\u001b[0m\n\u001b[1;32m     22\u001b[0m                         \u001b[0mmax_volume\u001b[0m \u001b[0;34m=\u001b[0m \u001b[0mmin\u001b[0m\u001b[0;34m(\u001b[0m\u001b[0minventory\u001b[0m\u001b[0;34m[\u001b[0m\u001b[0mcurrency_index\u001b[0m\u001b[0;34m]\u001b[0m\u001b[0;34m,\u001b[0m \u001b[0md\u001b[0m\u001b[0;34m[\u001b[0m\u001b[0morder_kind_size\u001b[0m\u001b[0;34m]\u001b[0m\u001b[0;34m[\u001b[0m\u001b[0mt\u001b[0m\u001b[0;34m]\u001b[0m\u001b[0;34m)\u001b[0m \u001b[0;31m# Volume relative to start\u001b[0m\u001b[0;34m\u001b[0m\u001b[0;34m\u001b[0m\u001b[0m\n\u001b[0;32m---> 23\u001b[0;31m                         \u001b[0mprofit\u001b[0m \u001b[0;34m=\u001b[0m \u001b[0;34m(\u001b[0m\u001b[0mend_prices\u001b[0m\u001b[0;34m[\u001b[0m\u001b[0mcurrencies\u001b[0m\u001b[0;34m[\u001b[0m\u001b[0mend_currency\u001b[0m\u001b[0;34m]\u001b[0m\u001b[0;34m]\u001b[0m \u001b[0;34m-\u001b[0m \u001b[0;34m(\u001b[0m\u001b[0md\u001b[0m\u001b[0;34m[\u001b[0m\u001b[0morder_kind\u001b[0m\u001b[0;34m]\u001b[0m\u001b[0;34m[\u001b[0m\u001b[0mt\u001b[0m\u001b[0;34m]\u001b[0m \u001b[0;34m/\u001b[0m \u001b[0mend_prices\u001b[0m\u001b[0;34m[\u001b[0m\u001b[0mstart_currency\u001b[0m\u001b[0;34m]\u001b[0m\u001b[0;34m)\u001b[0m\u001b[0;34m)\u001b[0m \u001b[0;34m*\u001b[0m \u001b[0mmax_volume\u001b[0m\u001b[0;34m\u001b[0m\u001b[0;34m\u001b[0m\u001b[0m\n\u001b[0m\u001b[1;32m     24\u001b[0m                     \u001b[0;32melif\u001b[0m \u001b[0;34m\"Ask\"\u001b[0m \u001b[0;32min\u001b[0m \u001b[0morder_kind\u001b[0m\u001b[0;34m:\u001b[0m\u001b[0;34m\u001b[0m\u001b[0;34m\u001b[0m\u001b[0m\n\u001b[1;32m     25\u001b[0m                         \u001b[0;31m# This is where we buy the denominator\u001b[0m\u001b[0;34m\u001b[0m\u001b[0;34m\u001b[0m\u001b[0;34m\u001b[0m\u001b[0m\n",
      "\u001b[0;31mTypeError\u001b[0m: list indices must be integers or slices, not str"
     ]
    }
   ],
   "source": [
    "# Inventory: USD, EUR, BTC, ETH\n",
    "# GREEDY \n",
    "end_prices = [1, 1.16, 24135.56, 2941.99]\n",
    "conversions = {0 : (1, 7, 9), 1 : (3, 6, 11,), 2: (0, 2, 5), 3: (4, 8, 10)}\n",
    "currencies = {\"USD\" : 0, \"EUR\" : 1, \"BTC\" : 2, \"ETH\" : 3}\n",
    "def calculate_with_end_prices(end_prices, inventory):\n",
    "    orders = [\"BTC/USD Bid\", \"BTC/USD Ask\", \"BTC/EUR Bid\", \"BTC/EUR Ask\", \"ETH/BTC Bid\", \"ETH/BTC Ask\", \"EUR/USD Bid\", \"EUR/USD Ask\", \"ETH/USD Bid\", \"ETH/USD Ask\", \"ETH/EUR Bid\", \"ETH/EUR Ask\"]\n",
    "    for t in times:\n",
    "        # Figure out last case \n",
    "        max_profit = 0\n",
    "        max_profit_trade = None\n",
    "        max_profit_volume = 0\n",
    "        for currency_index in range(len(inventory)): # Iterate through currency are we handling\n",
    "            if inventory[currency_index] > 0:\n",
    "                for order_index in range(len(conversions[currency_index])): # Iterate through trade types \n",
    "                    order_kind = orders[conversions[currency_index][order_index]]\n",
    "                    order_kind_size = order_kind + \" Size\"\n",
    "                    if \"Bid\" in order_kind:\n",
    "                        # Ex BTC/USD Bid * BTC/USD Bid Size = $48,064.80 * 9.4296 in BTC to be sold \n",
    "                        start_currency = order_kind[:3]\n",
    "                        end_currency = order_kind[4:7] # Currency we will get be selling \n",
    "                        max_volume = min(inventory[currency_index], d[order_kind_size][t]) # Volume relative to start \n",
    "                        profit = (end_prices[currencies[end_currency]] - (d[order_kind][t] / end_prices[currencies[start_currency]])) * max_volume \n",
    "                    elif \"Ask\" in order_kind:\n",
    "                        # This is where we buy the denominator\n",
    "                        # BTC/USD Ask * BTC/USD Ask Size = $48,269.41 * 18.2923 in BTC to be bought \n",
    "                        start_currency = order_kind[4:7]\n",
    "                        end_currency = order_kind[:3]\n",
    "                        max_volume = min(inventory[currency_index], d[order_kind_size][t] * d[order_kind_size][t])\n",
    "                        profit = (end_prices[currencies[end_currency]] - (d[order_kind][t] / end_prices[currencies[end_currency]])) * max_volume \n",
    "                    if profit > max_profit:\n",
    "                        max_profit = profit\n",
    "                        max_profit_trade = order_kind\n",
    "                        max_profit_volume = max_volume\n",
    "\n",
    "        if \"Bid\" in max_profit_trade:\n",
    "            increase = max_profit_trade[4:7]\n",
    "            decrease = max_profit_trade[:3]\n",
    "            inventory[currencies[increase]] += d[max_profit_trade][t] * max_profit_volume\n",
    "            inventory[currencies[decrease]] -= max_profit_volume\n",
    "        elif \"Ask\" in max_profit_trade:\n",
    "            increase = max_profit_trade[:3]\n",
    "            decrease = max_profit_trade[4:7]\n",
    "            inventory[currencies[increase]] += max_profit_volume\n",
    "            inventory[currencies[decrease]] -= d[max_profit_trade][t] * max_profit_volume\n",
    "    return(inventory)\n",
    "\n",
    "ans = calculate_with_end_prices(end_prices, [1000, 0, 0, 0])\n",
    "print(portfolio_value(end_prices, ans))\n",
    "\n",
    "\n",
    "\n",
    "        \n",
    "\n",
    "    "
   ]
  },
  {
   "cell_type": "code",
   "execution_count": null,
   "metadata": {},
   "outputs": [
    {
     "name": "stdout",
     "output_type": "stream",
     "text": [
      "[datetime.datetime(2021, 9, 13, 0, 0), datetime.datetime(2021, 9, 13, 0, 5), datetime.datetime(2021, 9, 13, 0, 10), datetime.datetime(2021, 9, 13, 0, 15), datetime.datetime(2021, 9, 13, 0, 20), datetime.datetime(2021, 9, 13, 0, 25), datetime.datetime(2021, 9, 13, 0, 30), datetime.datetime(2021, 9, 13, 0, 35), datetime.datetime(2021, 9, 13, 0, 40), datetime.datetime(2021, 9, 13, 0, 45), datetime.datetime(2021, 9, 13, 0, 50), datetime.datetime(2021, 9, 13, 0, 55), datetime.datetime(2021, 9, 13, 1, 0), datetime.datetime(2021, 9, 13, 1, 5), datetime.datetime(2021, 9, 13, 1, 10), datetime.datetime(2021, 9, 13, 1, 15), datetime.datetime(2021, 9, 13, 1, 20), datetime.datetime(2021, 9, 13, 1, 25), datetime.datetime(2021, 9, 13, 1, 30), datetime.datetime(2021, 9, 13, 1, 35), datetime.datetime(2021, 9, 13, 1, 40), datetime.datetime(2021, 9, 13, 1, 45), datetime.datetime(2021, 9, 13, 1, 50), datetime.datetime(2021, 9, 13, 1, 55), datetime.datetime(2021, 9, 13, 2, 0), datetime.datetime(2021, 9, 13, 2, 5), datetime.datetime(2021, 9, 13, 2, 10), datetime.datetime(2021, 9, 13, 2, 15), datetime.datetime(2021, 9, 13, 2, 20), datetime.datetime(2021, 9, 13, 2, 25), datetime.datetime(2021, 9, 13, 2, 30), datetime.datetime(2021, 9, 13, 2, 35), datetime.datetime(2021, 9, 13, 2, 40), datetime.datetime(2021, 9, 13, 2, 45), datetime.datetime(2021, 9, 13, 2, 50), datetime.datetime(2021, 9, 13, 2, 55), datetime.datetime(2021, 9, 13, 3, 0), datetime.datetime(2021, 9, 13, 3, 5), datetime.datetime(2021, 9, 13, 3, 10), datetime.datetime(2021, 9, 13, 3, 15), datetime.datetime(2021, 9, 13, 3, 20), datetime.datetime(2021, 9, 13, 3, 25), datetime.datetime(2021, 9, 13, 3, 30), datetime.datetime(2021, 9, 13, 3, 35), datetime.datetime(2021, 9, 13, 3, 40), datetime.datetime(2021, 9, 13, 3, 45), datetime.datetime(2021, 9, 13, 3, 50), datetime.datetime(2021, 9, 13, 3, 55), datetime.datetime(2021, 9, 13, 4, 0), datetime.datetime(2021, 9, 13, 4, 5), datetime.datetime(2021, 9, 13, 4, 10), datetime.datetime(2021, 9, 13, 4, 15), datetime.datetime(2021, 9, 13, 4, 20), datetime.datetime(2021, 9, 13, 4, 25), datetime.datetime(2021, 9, 13, 4, 30), datetime.datetime(2021, 9, 13, 4, 35), datetime.datetime(2021, 9, 13, 4, 40), datetime.datetime(2021, 9, 13, 4, 45), datetime.datetime(2021, 9, 13, 4, 50), datetime.datetime(2021, 9, 13, 4, 55), datetime.datetime(2021, 9, 13, 5, 0), datetime.datetime(2021, 9, 13, 5, 5), datetime.datetime(2021, 9, 13, 5, 10), datetime.datetime(2021, 9, 13, 5, 15), datetime.datetime(2021, 9, 13, 5, 20), datetime.datetime(2021, 9, 13, 5, 25), datetime.datetime(2021, 9, 13, 5, 30), datetime.datetime(2021, 9, 13, 5, 35), datetime.datetime(2021, 9, 13, 5, 40), datetime.datetime(2021, 9, 13, 5, 45), datetime.datetime(2021, 9, 13, 5, 50), datetime.datetime(2021, 9, 13, 5, 55), datetime.datetime(2021, 9, 13, 6, 0), datetime.datetime(2021, 9, 13, 6, 5), datetime.datetime(2021, 9, 13, 6, 10), datetime.datetime(2021, 9, 13, 6, 15), datetime.datetime(2021, 9, 13, 6, 20), datetime.datetime(2021, 9, 13, 6, 25), datetime.datetime(2021, 9, 13, 6, 30), datetime.datetime(2021, 9, 13, 6, 35), datetime.datetime(2021, 9, 13, 6, 40), datetime.datetime(2021, 9, 13, 6, 45), datetime.datetime(2021, 9, 13, 6, 50), datetime.datetime(2021, 9, 13, 6, 55), datetime.datetime(2021, 9, 13, 7, 0), datetime.datetime(2021, 9, 13, 7, 5), datetime.datetime(2021, 9, 13, 7, 10), datetime.datetime(2021, 9, 13, 7, 15), datetime.datetime(2021, 9, 13, 7, 20), datetime.datetime(2021, 9, 13, 7, 25), datetime.datetime(2021, 9, 13, 7, 30), datetime.datetime(2021, 9, 13, 7, 35), datetime.datetime(2021, 9, 13, 7, 40), datetime.datetime(2021, 9, 13, 7, 45), datetime.datetime(2021, 9, 13, 7, 50), datetime.datetime(2021, 9, 13, 7, 55), datetime.datetime(2021, 9, 13, 8, 0), datetime.datetime(2021, 9, 13, 8, 5), datetime.datetime(2021, 9, 13, 8, 10), datetime.datetime(2021, 9, 13, 8, 15), datetime.datetime(2021, 9, 13, 8, 20), datetime.datetime(2021, 9, 13, 8, 25), datetime.datetime(2021, 9, 13, 8, 30), datetime.datetime(2021, 9, 13, 8, 35), datetime.datetime(2021, 9, 13, 8, 40), datetime.datetime(2021, 9, 13, 8, 45), datetime.datetime(2021, 9, 13, 8, 50), datetime.datetime(2021, 9, 13, 8, 55), datetime.datetime(2021, 9, 13, 9, 0), datetime.datetime(2021, 9, 13, 9, 5), datetime.datetime(2021, 9, 13, 9, 10), datetime.datetime(2021, 9, 13, 9, 15), datetime.datetime(2021, 9, 13, 9, 20), datetime.datetime(2021, 9, 13, 9, 25), datetime.datetime(2021, 9, 13, 9, 30), datetime.datetime(2021, 9, 13, 9, 35), datetime.datetime(2021, 9, 13, 9, 40), datetime.datetime(2021, 9, 13, 9, 45), datetime.datetime(2021, 9, 13, 9, 50), datetime.datetime(2021, 9, 13, 9, 55), datetime.datetime(2021, 9, 13, 10, 0), datetime.datetime(2021, 9, 13, 10, 5), datetime.datetime(2021, 9, 13, 10, 10), datetime.datetime(2021, 9, 13, 10, 15), datetime.datetime(2021, 9, 13, 10, 20), datetime.datetime(2021, 9, 13, 10, 25), datetime.datetime(2021, 9, 13, 10, 30), datetime.datetime(2021, 9, 13, 10, 35), datetime.datetime(2021, 9, 13, 10, 40), datetime.datetime(2021, 9, 13, 10, 45), datetime.datetime(2021, 9, 13, 10, 50), datetime.datetime(2021, 9, 13, 10, 55), datetime.datetime(2021, 9, 13, 11, 0), datetime.datetime(2021, 9, 13, 11, 5), datetime.datetime(2021, 9, 13, 11, 10), datetime.datetime(2021, 9, 13, 11, 15), datetime.datetime(2021, 9, 13, 11, 20), datetime.datetime(2021, 9, 13, 11, 25), datetime.datetime(2021, 9, 13, 11, 30), datetime.datetime(2021, 9, 13, 11, 35), datetime.datetime(2021, 9, 13, 11, 40), datetime.datetime(2021, 9, 13, 11, 45), datetime.datetime(2021, 9, 13, 11, 50), datetime.datetime(2021, 9, 13, 11, 55), datetime.datetime(2021, 9, 13, 12, 0), datetime.datetime(2021, 9, 13, 12, 5), datetime.datetime(2021, 9, 13, 12, 10), datetime.datetime(2021, 9, 13, 12, 15), datetime.datetime(2021, 9, 13, 12, 20), datetime.datetime(2021, 9, 13, 12, 25), datetime.datetime(2021, 9, 13, 12, 30), datetime.datetime(2021, 9, 13, 12, 35), datetime.datetime(2021, 9, 13, 12, 40), datetime.datetime(2021, 9, 13, 12, 45), datetime.datetime(2021, 9, 13, 12, 50), datetime.datetime(2021, 9, 13, 12, 55), datetime.datetime(2021, 9, 13, 13, 0), datetime.datetime(2021, 9, 13, 13, 5), datetime.datetime(2021, 9, 13, 13, 10), datetime.datetime(2021, 9, 13, 13, 15), datetime.datetime(2021, 9, 13, 13, 20), datetime.datetime(2021, 9, 13, 13, 25), datetime.datetime(2021, 9, 13, 13, 30), datetime.datetime(2021, 9, 13, 13, 35), datetime.datetime(2021, 9, 13, 13, 40), datetime.datetime(2021, 9, 13, 13, 45), datetime.datetime(2021, 9, 13, 13, 50), datetime.datetime(2021, 9, 13, 13, 55), datetime.datetime(2021, 9, 13, 14, 0), datetime.datetime(2021, 9, 13, 14, 5), datetime.datetime(2021, 9, 13, 14, 10), datetime.datetime(2021, 9, 13, 14, 15), datetime.datetime(2021, 9, 13, 14, 20), datetime.datetime(2021, 9, 13, 14, 25), datetime.datetime(2021, 9, 13, 14, 30), datetime.datetime(2021, 9, 13, 14, 35), datetime.datetime(2021, 9, 13, 14, 40), datetime.datetime(2021, 9, 13, 14, 45), datetime.datetime(2021, 9, 13, 14, 50), datetime.datetime(2021, 9, 13, 14, 55), datetime.datetime(2021, 9, 13, 15, 0), datetime.datetime(2021, 9, 13, 15, 5), datetime.datetime(2021, 9, 13, 15, 10), datetime.datetime(2021, 9, 13, 15, 15), datetime.datetime(2021, 9, 13, 15, 20), datetime.datetime(2021, 9, 13, 15, 25), datetime.datetime(2021, 9, 13, 15, 30), datetime.datetime(2021, 9, 13, 15, 35), datetime.datetime(2021, 9, 13, 15, 40), datetime.datetime(2021, 9, 13, 15, 45), datetime.datetime(2021, 9, 13, 15, 50), datetime.datetime(2021, 9, 13, 15, 55), datetime.datetime(2021, 9, 13, 16, 0), datetime.datetime(2021, 9, 13, 16, 5), datetime.datetime(2021, 9, 13, 16, 10), datetime.datetime(2021, 9, 13, 16, 15), datetime.datetime(2021, 9, 13, 16, 20), datetime.datetime(2021, 9, 13, 16, 25), datetime.datetime(2021, 9, 13, 16, 30), datetime.datetime(2021, 9, 13, 16, 35), datetime.datetime(2021, 9, 13, 16, 40), datetime.datetime(2021, 9, 13, 16, 45), datetime.datetime(2021, 9, 13, 16, 50), datetime.datetime(2021, 9, 13, 16, 55), datetime.datetime(2021, 9, 13, 17, 0), datetime.datetime(2021, 9, 13, 17, 5), datetime.datetime(2021, 9, 13, 17, 10), datetime.datetime(2021, 9, 13, 17, 15), datetime.datetime(2021, 9, 13, 17, 20), datetime.datetime(2021, 9, 13, 17, 25), datetime.datetime(2021, 9, 13, 17, 30), datetime.datetime(2021, 9, 13, 17, 35), datetime.datetime(2021, 9, 13, 17, 40), datetime.datetime(2021, 9, 13, 17, 45), datetime.datetime(2021, 9, 13, 17, 50), datetime.datetime(2021, 9, 13, 17, 55), datetime.datetime(2021, 9, 13, 18, 0), datetime.datetime(2021, 9, 13, 18, 5), datetime.datetime(2021, 9, 13, 18, 10), datetime.datetime(2021, 9, 13, 18, 15), datetime.datetime(2021, 9, 13, 18, 20), datetime.datetime(2021, 9, 13, 18, 25), datetime.datetime(2021, 9, 13, 18, 30), datetime.datetime(2021, 9, 13, 18, 35), datetime.datetime(2021, 9, 13, 18, 40), datetime.datetime(2021, 9, 13, 18, 45), datetime.datetime(2021, 9, 13, 18, 50), datetime.datetime(2021, 9, 13, 18, 55), datetime.datetime(2021, 9, 13, 19, 0), datetime.datetime(2021, 9, 13, 19, 5), datetime.datetime(2021, 9, 13, 19, 10), datetime.datetime(2021, 9, 13, 19, 15), datetime.datetime(2021, 9, 13, 19, 20), datetime.datetime(2021, 9, 13, 19, 25), datetime.datetime(2021, 9, 13, 19, 30), datetime.datetime(2021, 9, 13, 19, 35), datetime.datetime(2021, 9, 13, 19, 40), datetime.datetime(2021, 9, 13, 19, 45), datetime.datetime(2021, 9, 13, 19, 50), datetime.datetime(2021, 9, 13, 19, 55), datetime.datetime(2021, 9, 13, 20, 0), datetime.datetime(2021, 9, 13, 20, 5), datetime.datetime(2021, 9, 13, 20, 10), datetime.datetime(2021, 9, 13, 20, 15), datetime.datetime(2021, 9, 13, 20, 20), datetime.datetime(2021, 9, 13, 20, 25), datetime.datetime(2021, 9, 13, 20, 30), datetime.datetime(2021, 9, 13, 20, 35), datetime.datetime(2021, 9, 13, 20, 40), datetime.datetime(2021, 9, 13, 20, 45), datetime.datetime(2021, 9, 13, 20, 50), datetime.datetime(2021, 9, 13, 20, 55), datetime.datetime(2021, 9, 13, 21, 0), datetime.datetime(2021, 9, 13, 21, 5), datetime.datetime(2021, 9, 13, 21, 10), datetime.datetime(2021, 9, 13, 21, 15), datetime.datetime(2021, 9, 13, 21, 20), datetime.datetime(2021, 9, 13, 21, 25), datetime.datetime(2021, 9, 13, 21, 30), datetime.datetime(2021, 9, 13, 21, 35), datetime.datetime(2021, 9, 13, 21, 40), datetime.datetime(2021, 9, 13, 21, 45), datetime.datetime(2021, 9, 13, 21, 50), datetime.datetime(2021, 9, 13, 21, 55), datetime.datetime(2021, 9, 13, 22, 0), datetime.datetime(2021, 9, 13, 22, 5), datetime.datetime(2021, 9, 13, 22, 10), datetime.datetime(2021, 9, 13, 22, 15), datetime.datetime(2021, 9, 13, 22, 20), datetime.datetime(2021, 9, 13, 22, 25), datetime.datetime(2021, 9, 13, 22, 30), datetime.datetime(2021, 9, 13, 22, 35), datetime.datetime(2021, 9, 13, 22, 40), datetime.datetime(2021, 9, 13, 22, 45), datetime.datetime(2021, 9, 13, 22, 50), datetime.datetime(2021, 9, 13, 22, 55), datetime.datetime(2021, 9, 13, 23, 0), datetime.datetime(2021, 9, 13, 23, 5), datetime.datetime(2021, 9, 13, 23, 10), datetime.datetime(2021, 9, 13, 23, 15), datetime.datetime(2021, 9, 13, 23, 20), datetime.datetime(2021, 9, 13, 23, 25), datetime.datetime(2021, 9, 13, 23, 30), datetime.datetime(2021, 9, 13, 23, 35), datetime.datetime(2021, 9, 13, 23, 40), datetime.datetime(2021, 9, 13, 23, 45), datetime.datetime(2021, 9, 13, 23, 50), datetime.datetime(2021, 9, 13, 23, 55), datetime.datetime(2021, 9, 14, 0, 0), datetime.datetime(2021, 9, 14, 0, 5), datetime.datetime(2021, 9, 14, 0, 10), datetime.datetime(2021, 9, 14, 0, 15), datetime.datetime(2021, 9, 14, 0, 20), datetime.datetime(2021, 9, 14, 0, 25), datetime.datetime(2021, 9, 14, 0, 30), datetime.datetime(2021, 9, 14, 0, 35), datetime.datetime(2021, 9, 14, 0, 40), datetime.datetime(2021, 9, 14, 0, 45), datetime.datetime(2021, 9, 14, 0, 50), datetime.datetime(2021, 9, 14, 0, 55), datetime.datetime(2021, 9, 14, 1, 0), datetime.datetime(2021, 9, 14, 1, 5), datetime.datetime(2021, 9, 14, 1, 10), datetime.datetime(2021, 9, 14, 1, 15), datetime.datetime(2021, 9, 14, 1, 20), datetime.datetime(2021, 9, 14, 1, 25), datetime.datetime(2021, 9, 14, 1, 30), datetime.datetime(2021, 9, 14, 1, 35), datetime.datetime(2021, 9, 14, 1, 40), datetime.datetime(2021, 9, 14, 1, 45), datetime.datetime(2021, 9, 14, 1, 50), datetime.datetime(2021, 9, 14, 1, 55), datetime.datetime(2021, 9, 14, 2, 0), datetime.datetime(2021, 9, 14, 2, 5), datetime.datetime(2021, 9, 14, 2, 10), datetime.datetime(2021, 9, 14, 2, 15), datetime.datetime(2021, 9, 14, 2, 20), datetime.datetime(2021, 9, 14, 2, 25), datetime.datetime(2021, 9, 14, 2, 30), datetime.datetime(2021, 9, 14, 2, 35), datetime.datetime(2021, 9, 14, 2, 40), datetime.datetime(2021, 9, 14, 2, 45), datetime.datetime(2021, 9, 14, 2, 50), datetime.datetime(2021, 9, 14, 2, 55), datetime.datetime(2021, 9, 14, 3, 0), datetime.datetime(2021, 9, 14, 3, 5), datetime.datetime(2021, 9, 14, 3, 10), datetime.datetime(2021, 9, 14, 3, 15), datetime.datetime(2021, 9, 14, 3, 20), datetime.datetime(2021, 9, 14, 3, 25), datetime.datetime(2021, 9, 14, 3, 30), datetime.datetime(2021, 9, 14, 3, 35), datetime.datetime(2021, 9, 14, 3, 40), datetime.datetime(2021, 9, 14, 3, 45), datetime.datetime(2021, 9, 14, 3, 50), datetime.datetime(2021, 9, 14, 3, 55), datetime.datetime(2021, 9, 14, 4, 0), datetime.datetime(2021, 9, 14, 4, 5), datetime.datetime(2021, 9, 14, 4, 10), datetime.datetime(2021, 9, 14, 4, 15), datetime.datetime(2021, 9, 14, 4, 20), datetime.datetime(2021, 9, 14, 4, 25), datetime.datetime(2021, 9, 14, 4, 30), datetime.datetime(2021, 9, 14, 4, 35), datetime.datetime(2021, 9, 14, 4, 40), datetime.datetime(2021, 9, 14, 4, 45), datetime.datetime(2021, 9, 14, 4, 50), datetime.datetime(2021, 9, 14, 4, 55), datetime.datetime(2021, 9, 14, 5, 0), datetime.datetime(2021, 9, 14, 5, 5), datetime.datetime(2021, 9, 14, 5, 10), datetime.datetime(2021, 9, 14, 5, 15), datetime.datetime(2021, 9, 14, 5, 20), datetime.datetime(2021, 9, 14, 5, 25), datetime.datetime(2021, 9, 14, 5, 30), datetime.datetime(2021, 9, 14, 5, 35), datetime.datetime(2021, 9, 14, 5, 40), datetime.datetime(2021, 9, 14, 5, 45), datetime.datetime(2021, 9, 14, 5, 50), datetime.datetime(2021, 9, 14, 5, 55), datetime.datetime(2021, 9, 14, 6, 0), datetime.datetime(2021, 9, 14, 6, 5), datetime.datetime(2021, 9, 14, 6, 10), datetime.datetime(2021, 9, 14, 6, 15), datetime.datetime(2021, 9, 14, 6, 20), datetime.datetime(2021, 9, 14, 6, 25), datetime.datetime(2021, 9, 14, 6, 30), datetime.datetime(2021, 9, 14, 6, 35), datetime.datetime(2021, 9, 14, 6, 40), datetime.datetime(2021, 9, 14, 6, 45), datetime.datetime(2021, 9, 14, 6, 50), datetime.datetime(2021, 9, 14, 6, 55), datetime.datetime(2021, 9, 14, 7, 0), datetime.datetime(2021, 9, 14, 7, 5), datetime.datetime(2021, 9, 14, 7, 10), datetime.datetime(2021, 9, 14, 7, 15), datetime.datetime(2021, 9, 14, 7, 20), datetime.datetime(2021, 9, 14, 7, 25), datetime.datetime(2021, 9, 14, 7, 30), datetime.datetime(2021, 9, 14, 7, 35), datetime.datetime(2021, 9, 14, 7, 40), datetime.datetime(2021, 9, 14, 7, 45), datetime.datetime(2021, 9, 14, 7, 50), datetime.datetime(2021, 9, 14, 7, 55), datetime.datetime(2021, 9, 14, 8, 0), datetime.datetime(2021, 9, 14, 8, 5), datetime.datetime(2021, 9, 14, 8, 10), datetime.datetime(2021, 9, 14, 8, 15), datetime.datetime(2021, 9, 14, 8, 20), datetime.datetime(2021, 9, 14, 8, 25), datetime.datetime(2021, 9, 14, 8, 30), datetime.datetime(2021, 9, 14, 8, 35), datetime.datetime(2021, 9, 14, 8, 40), datetime.datetime(2021, 9, 14, 8, 45), datetime.datetime(2021, 9, 14, 8, 50), datetime.datetime(2021, 9, 14, 8, 55), datetime.datetime(2021, 9, 14, 9, 0), datetime.datetime(2021, 9, 14, 9, 5), datetime.datetime(2021, 9, 14, 9, 10), datetime.datetime(2021, 9, 14, 9, 15), datetime.datetime(2021, 9, 14, 9, 20), datetime.datetime(2021, 9, 14, 9, 25), datetime.datetime(2021, 9, 14, 9, 30), datetime.datetime(2021, 9, 14, 9, 35), datetime.datetime(2021, 9, 14, 9, 40), datetime.datetime(2021, 9, 14, 9, 45), datetime.datetime(2021, 9, 14, 9, 50), datetime.datetime(2021, 9, 14, 9, 55), datetime.datetime(2021, 9, 14, 10, 0), datetime.datetime(2021, 9, 14, 10, 5), datetime.datetime(2021, 9, 14, 10, 10), datetime.datetime(2021, 9, 14, 10, 15), datetime.datetime(2021, 9, 14, 10, 20), datetime.datetime(2021, 9, 14, 10, 25), datetime.datetime(2021, 9, 14, 10, 30), datetime.datetime(2021, 9, 14, 10, 35), datetime.datetime(2021, 9, 14, 10, 40), datetime.datetime(2021, 9, 14, 10, 45), datetime.datetime(2021, 9, 14, 10, 50), datetime.datetime(2021, 9, 14, 10, 55), datetime.datetime(2021, 9, 14, 11, 0), datetime.datetime(2021, 9, 14, 11, 5), datetime.datetime(2021, 9, 14, 11, 10), datetime.datetime(2021, 9, 14, 11, 15), datetime.datetime(2021, 9, 14, 11, 20), datetime.datetime(2021, 9, 14, 11, 25), datetime.datetime(2021, 9, 14, 11, 30), datetime.datetime(2021, 9, 14, 11, 35), datetime.datetime(2021, 9, 14, 11, 40), datetime.datetime(2021, 9, 14, 11, 45), datetime.datetime(2021, 9, 14, 11, 50), datetime.datetime(2021, 9, 14, 11, 55), datetime.datetime(2021, 9, 14, 12, 0), datetime.datetime(2021, 9, 14, 12, 5), datetime.datetime(2021, 9, 14, 12, 10), datetime.datetime(2021, 9, 14, 12, 15), datetime.datetime(2021, 9, 14, 12, 20), datetime.datetime(2021, 9, 14, 12, 25), datetime.datetime(2021, 9, 14, 12, 30), datetime.datetime(2021, 9, 14, 12, 35), datetime.datetime(2021, 9, 14, 12, 40), datetime.datetime(2021, 9, 14, 12, 45), datetime.datetime(2021, 9, 14, 12, 50), datetime.datetime(2021, 9, 14, 12, 55), datetime.datetime(2021, 9, 14, 13, 0), datetime.datetime(2021, 9, 14, 13, 5), datetime.datetime(2021, 9, 14, 13, 10), datetime.datetime(2021, 9, 14, 13, 15), datetime.datetime(2021, 9, 14, 13, 20), datetime.datetime(2021, 9, 14, 13, 25), datetime.datetime(2021, 9, 14, 13, 30), datetime.datetime(2021, 9, 14, 13, 35), datetime.datetime(2021, 9, 14, 13, 40), datetime.datetime(2021, 9, 14, 13, 45), datetime.datetime(2021, 9, 14, 13, 50), datetime.datetime(2021, 9, 14, 13, 55), datetime.datetime(2021, 9, 14, 14, 0), datetime.datetime(2021, 9, 14, 14, 5), datetime.datetime(2021, 9, 14, 14, 10), datetime.datetime(2021, 9, 14, 14, 15), datetime.datetime(2021, 9, 14, 14, 20), datetime.datetime(2021, 9, 14, 14, 25), datetime.datetime(2021, 9, 14, 14, 30), datetime.datetime(2021, 9, 14, 14, 35), datetime.datetime(2021, 9, 14, 14, 40), datetime.datetime(2021, 9, 14, 14, 45), datetime.datetime(2021, 9, 14, 14, 50), datetime.datetime(2021, 9, 14, 14, 55), datetime.datetime(2021, 9, 14, 15, 0), datetime.datetime(2021, 9, 14, 15, 5), datetime.datetime(2021, 9, 14, 15, 10), datetime.datetime(2021, 9, 14, 15, 15), datetime.datetime(2021, 9, 14, 15, 20), datetime.datetime(2021, 9, 14, 15, 25), datetime.datetime(2021, 9, 14, 15, 30), datetime.datetime(2021, 9, 14, 15, 35), datetime.datetime(2021, 9, 14, 15, 40), datetime.datetime(2021, 9, 14, 15, 45), datetime.datetime(2021, 9, 14, 15, 50), datetime.datetime(2021, 9, 14, 15, 55), datetime.datetime(2021, 9, 14, 16, 0), datetime.datetime(2021, 9, 14, 16, 5), datetime.datetime(2021, 9, 14, 16, 10), datetime.datetime(2021, 9, 14, 16, 15), datetime.datetime(2021, 9, 14, 16, 20), datetime.datetime(2021, 9, 14, 16, 25), datetime.datetime(2021, 9, 14, 16, 30), datetime.datetime(2021, 9, 14, 16, 35), datetime.datetime(2021, 9, 14, 16, 40), datetime.datetime(2021, 9, 14, 16, 45), datetime.datetime(2021, 9, 14, 16, 50), datetime.datetime(2021, 9, 14, 16, 55), datetime.datetime(2021, 9, 14, 17, 0), datetime.datetime(2021, 9, 14, 17, 5), datetime.datetime(2021, 9, 14, 17, 10), datetime.datetime(2021, 9, 14, 17, 15), datetime.datetime(2021, 9, 14, 17, 20), datetime.datetime(2021, 9, 14, 17, 25), datetime.datetime(2021, 9, 14, 17, 30), datetime.datetime(2021, 9, 14, 17, 35), datetime.datetime(2021, 9, 14, 17, 40), datetime.datetime(2021, 9, 14, 17, 45), datetime.datetime(2021, 9, 14, 17, 50), datetime.datetime(2021, 9, 14, 17, 55), datetime.datetime(2021, 9, 14, 18, 0), datetime.datetime(2021, 9, 14, 18, 5), datetime.datetime(2021, 9, 14, 18, 10), datetime.datetime(2021, 9, 14, 18, 15), datetime.datetime(2021, 9, 14, 18, 20), datetime.datetime(2021, 9, 14, 18, 25), datetime.datetime(2021, 9, 14, 18, 30), datetime.datetime(2021, 9, 14, 18, 35), datetime.datetime(2021, 9, 14, 18, 40), datetime.datetime(2021, 9, 14, 18, 45), datetime.datetime(2021, 9, 14, 18, 50), datetime.datetime(2021, 9, 14, 18, 55), datetime.datetime(2021, 9, 14, 19, 0), datetime.datetime(2021, 9, 14, 19, 5), datetime.datetime(2021, 9, 14, 19, 10), datetime.datetime(2021, 9, 14, 19, 15), datetime.datetime(2021, 9, 14, 19, 20), datetime.datetime(2021, 9, 14, 19, 25), datetime.datetime(2021, 9, 14, 19, 30), datetime.datetime(2021, 9, 14, 19, 35), datetime.datetime(2021, 9, 14, 19, 40), datetime.datetime(2021, 9, 14, 19, 45), datetime.datetime(2021, 9, 14, 19, 50), datetime.datetime(2021, 9, 14, 19, 55), datetime.datetime(2021, 9, 14, 20, 0), datetime.datetime(2021, 9, 14, 20, 5), datetime.datetime(2021, 9, 14, 20, 10), datetime.datetime(2021, 9, 14, 20, 15), datetime.datetime(2021, 9, 14, 20, 20), datetime.datetime(2021, 9, 14, 20, 25), datetime.datetime(2021, 9, 14, 20, 30), datetime.datetime(2021, 9, 14, 20, 35), datetime.datetime(2021, 9, 14, 20, 40), datetime.datetime(2021, 9, 14, 20, 45), datetime.datetime(2021, 9, 14, 20, 50), datetime.datetime(2021, 9, 14, 20, 55), datetime.datetime(2021, 9, 14, 21, 0), datetime.datetime(2021, 9, 14, 21, 5), datetime.datetime(2021, 9, 14, 21, 10), datetime.datetime(2021, 9, 14, 21, 15), datetime.datetime(2021, 9, 14, 21, 20), datetime.datetime(2021, 9, 14, 21, 25), datetime.datetime(2021, 9, 14, 21, 30), datetime.datetime(2021, 9, 14, 21, 35), datetime.datetime(2021, 9, 14, 21, 40), datetime.datetime(2021, 9, 14, 21, 45), datetime.datetime(2021, 9, 14, 21, 50), datetime.datetime(2021, 9, 14, 21, 55), datetime.datetime(2021, 9, 14, 22, 0), datetime.datetime(2021, 9, 14, 22, 5), datetime.datetime(2021, 9, 14, 22, 10), datetime.datetime(2021, 9, 14, 22, 15), datetime.datetime(2021, 9, 14, 22, 20), datetime.datetime(2021, 9, 14, 22, 25), datetime.datetime(2021, 9, 14, 22, 30), datetime.datetime(2021, 9, 14, 22, 35), datetime.datetime(2021, 9, 14, 22, 40), datetime.datetime(2021, 9, 14, 22, 45), datetime.datetime(2021, 9, 14, 22, 50), datetime.datetime(2021, 9, 14, 22, 55), datetime.datetime(2021, 9, 14, 23, 0), datetime.datetime(2021, 9, 14, 23, 5), datetime.datetime(2021, 9, 14, 23, 10), datetime.datetime(2021, 9, 14, 23, 15), datetime.datetime(2021, 9, 14, 23, 20), datetime.datetime(2021, 9, 14, 23, 25), datetime.datetime(2021, 9, 14, 23, 30), datetime.datetime(2021, 9, 14, 23, 35), datetime.datetime(2021, 9, 14, 23, 40), datetime.datetime(2021, 9, 14, 23, 45), datetime.datetime(2021, 9, 14, 23, 50), datetime.datetime(2021, 9, 14, 23, 55), datetime.datetime(2021, 9, 15, 0, 0), datetime.datetime(2021, 9, 15, 0, 5), datetime.datetime(2021, 9, 15, 0, 10), datetime.datetime(2021, 9, 15, 0, 15), datetime.datetime(2021, 9, 15, 0, 20), datetime.datetime(2021, 9, 15, 0, 25), datetime.datetime(2021, 9, 15, 0, 30), datetime.datetime(2021, 9, 15, 0, 35), datetime.datetime(2021, 9, 15, 0, 40), datetime.datetime(2021, 9, 15, 0, 45), datetime.datetime(2021, 9, 15, 0, 50), datetime.datetime(2021, 9, 15, 0, 55), datetime.datetime(2021, 9, 15, 1, 0), datetime.datetime(2021, 9, 15, 1, 5), datetime.datetime(2021, 9, 15, 1, 10), datetime.datetime(2021, 9, 15, 1, 15), datetime.datetime(2021, 9, 15, 1, 20), datetime.datetime(2021, 9, 15, 1, 25), datetime.datetime(2021, 9, 15, 1, 30), datetime.datetime(2021, 9, 15, 1, 35), datetime.datetime(2021, 9, 15, 1, 40), datetime.datetime(2021, 9, 15, 1, 45), datetime.datetime(2021, 9, 15, 1, 50), datetime.datetime(2021, 9, 15, 1, 55), datetime.datetime(2021, 9, 15, 2, 0), datetime.datetime(2021, 9, 15, 2, 5), datetime.datetime(2021, 9, 15, 2, 10), datetime.datetime(2021, 9, 15, 2, 15), datetime.datetime(2021, 9, 15, 2, 20), datetime.datetime(2021, 9, 15, 2, 25), datetime.datetime(2021, 9, 15, 2, 30), datetime.datetime(2021, 9, 15, 2, 35), datetime.datetime(2021, 9, 15, 2, 40), datetime.datetime(2021, 9, 15, 2, 45), datetime.datetime(2021, 9, 15, 2, 50), datetime.datetime(2021, 9, 15, 2, 55), datetime.datetime(2021, 9, 15, 3, 0), datetime.datetime(2021, 9, 15, 3, 5), datetime.datetime(2021, 9, 15, 3, 10), datetime.datetime(2021, 9, 15, 3, 15), datetime.datetime(2021, 9, 15, 3, 20), datetime.datetime(2021, 9, 15, 3, 25), datetime.datetime(2021, 9, 15, 3, 30), datetime.datetime(2021, 9, 15, 3, 35), datetime.datetime(2021, 9, 15, 3, 40), datetime.datetime(2021, 9, 15, 3, 45), datetime.datetime(2021, 9, 15, 3, 50), datetime.datetime(2021, 9, 15, 3, 55), datetime.datetime(2021, 9, 15, 4, 0), datetime.datetime(2021, 9, 15, 4, 5), datetime.datetime(2021, 9, 15, 4, 10), datetime.datetime(2021, 9, 15, 4, 15), datetime.datetime(2021, 9, 15, 4, 20), datetime.datetime(2021, 9, 15, 4, 25), datetime.datetime(2021, 9, 15, 4, 30), datetime.datetime(2021, 9, 15, 4, 35), datetime.datetime(2021, 9, 15, 4, 40), datetime.datetime(2021, 9, 15, 4, 45), datetime.datetime(2021, 9, 15, 4, 50), datetime.datetime(2021, 9, 15, 4, 55), datetime.datetime(2021, 9, 15, 5, 0), datetime.datetime(2021, 9, 15, 5, 5), datetime.datetime(2021, 9, 15, 5, 10), datetime.datetime(2021, 9, 15, 5, 15), datetime.datetime(2021, 9, 15, 5, 20), datetime.datetime(2021, 9, 15, 5, 25), datetime.datetime(2021, 9, 15, 5, 30), datetime.datetime(2021, 9, 15, 5, 35), datetime.datetime(2021, 9, 15, 5, 40), datetime.datetime(2021, 9, 15, 5, 45), datetime.datetime(2021, 9, 15, 5, 50), datetime.datetime(2021, 9, 15, 5, 55), datetime.datetime(2021, 9, 15, 6, 0), datetime.datetime(2021, 9, 15, 6, 5), datetime.datetime(2021, 9, 15, 6, 10), datetime.datetime(2021, 9, 15, 6, 15), datetime.datetime(2021, 9, 15, 6, 20), datetime.datetime(2021, 9, 15, 6, 25), datetime.datetime(2021, 9, 15, 6, 30), datetime.datetime(2021, 9, 15, 6, 35), datetime.datetime(2021, 9, 15, 6, 40), datetime.datetime(2021, 9, 15, 6, 45), datetime.datetime(2021, 9, 15, 6, 50), datetime.datetime(2021, 9, 15, 6, 55), datetime.datetime(2021, 9, 15, 7, 0), datetime.datetime(2021, 9, 15, 7, 5), datetime.datetime(2021, 9, 15, 7, 10), datetime.datetime(2021, 9, 15, 7, 15), datetime.datetime(2021, 9, 15, 7, 20), datetime.datetime(2021, 9, 15, 7, 25), datetime.datetime(2021, 9, 15, 7, 30), datetime.datetime(2021, 9, 15, 7, 35), datetime.datetime(2021, 9, 15, 7, 40), datetime.datetime(2021, 9, 15, 7, 45), datetime.datetime(2021, 9, 15, 7, 50), datetime.datetime(2021, 9, 15, 7, 55), datetime.datetime(2021, 9, 15, 8, 0), datetime.datetime(2021, 9, 15, 8, 5), datetime.datetime(2021, 9, 15, 8, 10), datetime.datetime(2021, 9, 15, 8, 15), datetime.datetime(2021, 9, 15, 8, 20), datetime.datetime(2021, 9, 15, 8, 25), datetime.datetime(2021, 9, 15, 8, 30), datetime.datetime(2021, 9, 15, 8, 35), datetime.datetime(2021, 9, 15, 8, 40), datetime.datetime(2021, 9, 15, 8, 45), datetime.datetime(2021, 9, 15, 8, 50), datetime.datetime(2021, 9, 15, 8, 55), datetime.datetime(2021, 9, 15, 9, 0), datetime.datetime(2021, 9, 15, 9, 5), datetime.datetime(2021, 9, 15, 9, 10), datetime.datetime(2021, 9, 15, 9, 15), datetime.datetime(2021, 9, 15, 9, 20), datetime.datetime(2021, 9, 15, 9, 25), datetime.datetime(2021, 9, 15, 9, 30), datetime.datetime(2021, 9, 15, 9, 35), datetime.datetime(2021, 9, 15, 9, 40), datetime.datetime(2021, 9, 15, 9, 45), datetime.datetime(2021, 9, 15, 9, 50), datetime.datetime(2021, 9, 15, 9, 55), datetime.datetime(2021, 9, 15, 10, 0), datetime.datetime(2021, 9, 15, 10, 5), datetime.datetime(2021, 9, 15, 10, 10), datetime.datetime(2021, 9, 15, 10, 15), datetime.datetime(2021, 9, 15, 10, 20), datetime.datetime(2021, 9, 15, 10, 25), datetime.datetime(2021, 9, 15, 10, 30), datetime.datetime(2021, 9, 15, 10, 35), datetime.datetime(2021, 9, 15, 10, 40), datetime.datetime(2021, 9, 15, 10, 45), datetime.datetime(2021, 9, 15, 10, 50), datetime.datetime(2021, 9, 15, 10, 55), datetime.datetime(2021, 9, 15, 11, 0), datetime.datetime(2021, 9, 15, 11, 5), datetime.datetime(2021, 9, 15, 11, 10), datetime.datetime(2021, 9, 15, 11, 15), datetime.datetime(2021, 9, 15, 11, 20), datetime.datetime(2021, 9, 15, 11, 25), datetime.datetime(2021, 9, 15, 11, 30), datetime.datetime(2021, 9, 15, 11, 35), datetime.datetime(2021, 9, 15, 11, 40), datetime.datetime(2021, 9, 15, 11, 45), datetime.datetime(2021, 9, 15, 11, 50), datetime.datetime(2021, 9, 15, 11, 55), datetime.datetime(2021, 9, 15, 12, 0), datetime.datetime(2021, 9, 15, 12, 5), datetime.datetime(2021, 9, 15, 12, 10), datetime.datetime(2021, 9, 15, 12, 15), datetime.datetime(2021, 9, 15, 12, 20), datetime.datetime(2021, 9, 15, 12, 25), datetime.datetime(2021, 9, 15, 12, 30), datetime.datetime(2021, 9, 15, 12, 35), datetime.datetime(2021, 9, 15, 12, 40), datetime.datetime(2021, 9, 15, 12, 45), datetime.datetime(2021, 9, 15, 12, 50), datetime.datetime(2021, 9, 15, 12, 55), datetime.datetime(2021, 9, 15, 13, 0), datetime.datetime(2021, 9, 15, 13, 5), datetime.datetime(2021, 9, 15, 13, 10), datetime.datetime(2021, 9, 15, 13, 15), datetime.datetime(2021, 9, 15, 13, 20), datetime.datetime(2021, 9, 15, 13, 25), datetime.datetime(2021, 9, 15, 13, 30), datetime.datetime(2021, 9, 15, 13, 35), datetime.datetime(2021, 9, 15, 13, 40), datetime.datetime(2021, 9, 15, 13, 45), datetime.datetime(2021, 9, 15, 13, 50), datetime.datetime(2021, 9, 15, 13, 55), datetime.datetime(2021, 9, 15, 14, 0), datetime.datetime(2021, 9, 15, 14, 5), datetime.datetime(2021, 9, 15, 14, 10), datetime.datetime(2021, 9, 15, 14, 15), datetime.datetime(2021, 9, 15, 14, 20), datetime.datetime(2021, 9, 15, 14, 25), datetime.datetime(2021, 9, 15, 14, 30), datetime.datetime(2021, 9, 15, 14, 35), datetime.datetime(2021, 9, 15, 14, 40), datetime.datetime(2021, 9, 15, 14, 45), datetime.datetime(2021, 9, 15, 14, 50), datetime.datetime(2021, 9, 15, 14, 55), datetime.datetime(2021, 9, 15, 15, 0), datetime.datetime(2021, 9, 15, 15, 5), datetime.datetime(2021, 9, 15, 15, 10), datetime.datetime(2021, 9, 15, 15, 15), datetime.datetime(2021, 9, 15, 15, 20), datetime.datetime(2021, 9, 15, 15, 25), datetime.datetime(2021, 9, 15, 15, 30), datetime.datetime(2021, 9, 15, 15, 35), datetime.datetime(2021, 9, 15, 15, 40), datetime.datetime(2021, 9, 15, 15, 45), datetime.datetime(2021, 9, 15, 15, 50), datetime.datetime(2021, 9, 15, 15, 55), datetime.datetime(2021, 9, 15, 16, 0), datetime.datetime(2021, 9, 15, 16, 5), datetime.datetime(2021, 9, 15, 16, 10), datetime.datetime(2021, 9, 15, 16, 15), datetime.datetime(2021, 9, 15, 16, 20), datetime.datetime(2021, 9, 15, 16, 25), datetime.datetime(2021, 9, 15, 16, 30), datetime.datetime(2021, 9, 15, 16, 35), datetime.datetime(2021, 9, 15, 16, 40), datetime.datetime(2021, 9, 15, 16, 45), datetime.datetime(2021, 9, 15, 16, 50), datetime.datetime(2021, 9, 15, 16, 55), datetime.datetime(2021, 9, 15, 17, 0), datetime.datetime(2021, 9, 15, 17, 5), datetime.datetime(2021, 9, 15, 17, 10), datetime.datetime(2021, 9, 15, 17, 15), datetime.datetime(2021, 9, 15, 17, 20), datetime.datetime(2021, 9, 15, 17, 25), datetime.datetime(2021, 9, 15, 17, 30), datetime.datetime(2021, 9, 15, 17, 35), datetime.datetime(2021, 9, 15, 17, 40), datetime.datetime(2021, 9, 15, 17, 45), datetime.datetime(2021, 9, 15, 17, 50), datetime.datetime(2021, 9, 15, 17, 55), datetime.datetime(2021, 9, 15, 18, 0), datetime.datetime(2021, 9, 15, 18, 5), datetime.datetime(2021, 9, 15, 18, 10), datetime.datetime(2021, 9, 15, 18, 15), datetime.datetime(2021, 9, 15, 18, 20), datetime.datetime(2021, 9, 15, 18, 25), datetime.datetime(2021, 9, 15, 18, 30), datetime.datetime(2021, 9, 15, 18, 35), datetime.datetime(2021, 9, 15, 18, 40), datetime.datetime(2021, 9, 15, 18, 45), datetime.datetime(2021, 9, 15, 18, 50), datetime.datetime(2021, 9, 15, 18, 55), datetime.datetime(2021, 9, 15, 19, 0), datetime.datetime(2021, 9, 15, 19, 5), datetime.datetime(2021, 9, 15, 19, 10), datetime.datetime(2021, 9, 15, 19, 15), datetime.datetime(2021, 9, 15, 19, 20), datetime.datetime(2021, 9, 15, 19, 25), datetime.datetime(2021, 9, 15, 19, 30), datetime.datetime(2021, 9, 15, 19, 35), datetime.datetime(2021, 9, 15, 19, 40), datetime.datetime(2021, 9, 15, 19, 45), datetime.datetime(2021, 9, 15, 19, 50), datetime.datetime(2021, 9, 15, 19, 55), datetime.datetime(2021, 9, 15, 20, 0), datetime.datetime(2021, 9, 15, 20, 5), datetime.datetime(2021, 9, 15, 20, 10), datetime.datetime(2021, 9, 15, 20, 15), datetime.datetime(2021, 9, 15, 20, 20), datetime.datetime(2021, 9, 15, 20, 25), datetime.datetime(2021, 9, 15, 20, 30), datetime.datetime(2021, 9, 15, 20, 35), datetime.datetime(2021, 9, 15, 20, 40), datetime.datetime(2021, 9, 15, 20, 45), datetime.datetime(2021, 9, 15, 20, 50), datetime.datetime(2021, 9, 15, 20, 55), datetime.datetime(2021, 9, 15, 21, 0), datetime.datetime(2021, 9, 15, 21, 5), datetime.datetime(2021, 9, 15, 21, 10), datetime.datetime(2021, 9, 15, 21, 15), datetime.datetime(2021, 9, 15, 21, 20), datetime.datetime(2021, 9, 15, 21, 25), datetime.datetime(2021, 9, 15, 21, 30), datetime.datetime(2021, 9, 15, 21, 35), datetime.datetime(2021, 9, 15, 21, 40), datetime.datetime(2021, 9, 15, 21, 45), datetime.datetime(2021, 9, 15, 21, 50), datetime.datetime(2021, 9, 15, 21, 55), datetime.datetime(2021, 9, 15, 22, 0), datetime.datetime(2021, 9, 15, 22, 5), datetime.datetime(2021, 9, 15, 22, 10), datetime.datetime(2021, 9, 15, 22, 15), datetime.datetime(2021, 9, 15, 22, 20), datetime.datetime(2021, 9, 15, 22, 25), datetime.datetime(2021, 9, 15, 22, 30), datetime.datetime(2021, 9, 15, 22, 35), datetime.datetime(2021, 9, 15, 22, 40), datetime.datetime(2021, 9, 15, 22, 45), datetime.datetime(2021, 9, 15, 22, 50), datetime.datetime(2021, 9, 15, 22, 55), datetime.datetime(2021, 9, 15, 23, 0), datetime.datetime(2021, 9, 15, 23, 5), datetime.datetime(2021, 9, 15, 23, 10), datetime.datetime(2021, 9, 15, 23, 15), datetime.datetime(2021, 9, 15, 23, 20), datetime.datetime(2021, 9, 15, 23, 25), datetime.datetime(2021, 9, 15, 23, 30), datetime.datetime(2021, 9, 15, 23, 35), datetime.datetime(2021, 9, 15, 23, 40), datetime.datetime(2021, 9, 15, 23, 45), datetime.datetime(2021, 9, 15, 23, 50), datetime.datetime(2021, 9, 15, 23, 55)]\n"
     ]
    }
   ],
   "source": [
    "# '''\n",
    "# INVENTORY INDEX:\n",
    "# 0 = USD\n",
    "# 1 = EUR\n",
    "# 2 = BTC\n",
    "# 3 = ETH\n",
    "# '''\n",
    "# #transaction = ['BTC/USD Bid', 'BTC/USD Ask', 'BTC/EUR Bid', 'BTC/EUR Ask', 'ETH/BTC Bid', 'ETH/BTC Ask', 'EUR/USD Bid', 'EUR/USD Ask', 'ETH/USD Bid', 'ETH/USD Ask', 'ETH/EUR Bid', 'ETH/EUR Ask', 'Nothing']\n",
    "# # We first get the minimum of each of the values of the currencies relative to USD. Once we do we can see if your portfolio has lost more than 1% of its value at the min. If so, then we stop searching the tree\n",
    "# def combo(inventory, datetimeIndex, outputstring):\n",
    "#     ####### HARD CODED CONTENT (MODIFY HERE LATER) #########\n",
    "#     if portfolio_value([1, 1.18, 39651.80, 3162.61], inventory) < 990:\n",
    "#         if inventory[0] > maxusd[0]:\n",
    "#             maxusd[0] = inventory[0]\n",
    "#             output[0] = inventory\n",
    "#             stringoutput[0] = outputstring\n",
    "#         return\n",
    "#     ########################################################\n",
    "\n",
    "#     if datetimeIndex == len(times):\n",
    "#         if inventory[0] > maxusd[0]:\n",
    "#             maxusd[0] = inventory[0]\n",
    "#             output[0] = inventory\n",
    "#             stringoutput[0] = outputstring\n",
    "#         return\n",
    "#     if inventory[0] > 0:\n",
    "#         usd_tobuy_btc_total = min(d['BTC/USD Ask'][times[datetimeIndex]] * d['BTC/USD Ask Size'][times[datetimeIndex]], inventory[0])\n",
    "#         btc_count = usd_tobuy_btc_total / d['BTC/USD Ask'][times[datetimeIndex]]\n",
    "#         tempstring = outputstring + str(times[datetimeIndex].strftime(\"%m/%d/%y %I:%M%p\")) + ';BUY,BTC/USD-{};'.format(btc_count)\n",
    "#         combo([inventory[0] - usd_tobuy_btc_total, inventory[1], inventory[2] + btc_count, inventory[3]], datetimeIndex + 1, tempstring)\n",
    "\n",
    "#         usd_tobuy_eth_total = min(d['ETH/USD Ask'][times[datetimeIndex]] * d['ETH/USD Ask Size'][times[datetimeIndex]], inventory[0])\n",
    "#         eth_count = usd_tobuy_eth_total / d['ETH/USD Ask'][times[datetimeIndex]]\n",
    "#         tempstring = outputstring + str(times[datetimeIndex].strftime(\"%m/%d/%y %I:%M%p\")) + ';BUY,ETH/USD-{};'.format(eth_count)\n",
    "#         combo([inventory[0] - usd_tobuy_eth_total, inventory[1], inventory[2], inventory[3] + eth_count], datetimeIndex + 1, tempstring)\n",
    "\n",
    "#         usd_tobuy_eur_total = min(d['EUR/USD Ask'][times[datetimeIndex]] * d['EUR/USD Ask Size'][times[datetimeIndex]], inventory[0])\n",
    "#         eur_count = usd_tobuy_eur_total / d['EUR/USD Ask'][times[datetimeIndex]]\n",
    "#         tempstring = outputstring + str(times[datetimeIndex].strftime(\"%m/%d/%y %I:%M%p\")) + ';BUY,EUR/USD-{};'.format(eur_count)\n",
    "#         combo([inventory[0] - usd_tobuy_eur_total, inventory[1] + eur_count, inventory[2], inventory[3]], datetimeIndex + 1, tempstring)\n",
    "\n",
    "#     if inventory[1] > 0:\n",
    "#         eur_tobuy_btc_total = min(d['BTC/EUR Ask'][times[datetimeIndex]] * d['BTC/EUR Ask Size'][times[datetimeIndex]], inventory[1])\n",
    "#         btc_count = eur_tobuy_btc_total / d['BTC/EUR Ask'][times[datetimeIndex]]\n",
    "#         tempstring = outputstring + str(times[datetimeIndex].strftime(\"%m/%d/%y %I:%M%p\")) + ';BUY,BTC/EUR-{};'.format(btc_count)\n",
    "#         combo([inventory[0], inventory[1] - eur_tobuy_btc_total, inventory[2] + btc_count, inventory[3]], datetimeIndex + 1, tempstring)\n",
    "\n",
    "#         eur_tobuy_eth_total = min(d['ETH/EUR Ask'][times[datetimeIndex]] * d['ETH/EUR Ask Size'][times[datetimeIndex]], inventory[1])\n",
    "#         eth_count = eur_tobuy_eth_total / d['ETH/EUR Ask'][times[datetimeIndex]]\n",
    "#         tempstring = outputstring + str(times[datetimeIndex].strftime(\"%m/%d/%y %I:%M%p\")) + ';BUY,ETH/EUR-{};'.format(eth_count)\n",
    "#         combo([inventory[0], inventory[1] - eur_tobuy_eth_total, inventory[2], inventory[3] + eth_count], datetimeIndex + 1, tempstring)\n",
    "\n",
    "#         eur_tobuy_usd_total = min(d['EUR/USD Bid Size'][times[datetimeIndex]] / d['EUR/USD Bid'][times[datetimeIndex]], inventory[1])\n",
    "#         usd_count = eur_tobuy_usd_total * d['EUR/USD Bid'][times[datetimeIndex]]\n",
    "#         tempstring = outputstring + str(times[datetimeIndex].strftime(\"%m/%d/%y %I:%M%p\")) + ';SELL,EUR/USD-{};'.format(usd_count)\n",
    "#         combo([inventory[0] + usd_count, inventory[1] - eur_tobuy_usd_total, inventory[2], inventory[3]], datetimeIndex + 1, tempstring)\n",
    "\n",
    "#     if inventory[2] > 0:\n",
    "#         btc_tobuy_usd_total = min(d['BTC/USD Bid Size'][times[datetimeIndex]] / d['BTC/USD Bid'][times[datetimeIndex]], inventory[2])\n",
    "#         usd_count = btc_tobuy_usd_total * d['BTC/USD Bid'][times[datetimeIndex]]\n",
    "#         tempstring = outputstring + str(times[datetimeIndex].strftime(\"%m/%d/%y %I:%M%p\")) + ';SELL,BTC/USD-{};'.format(usd_count)\n",
    "#         combo([inventory[0] + usd_count, inventory[1], inventory[2] - btc_tobuy_usd_total, inventory[3]], datetimeIndex + 1, tempstring)\n",
    "\n",
    "#         btc_tobuy_eur_total = min(d['BTC/EUR Bid Size'][times[datetimeIndex]] / d['BTC/EUR Bid'][times[datetimeIndex]], inventory[2])\n",
    "#         eur_count = btc_tobuy_eur_total * d['BTC/EUR Bid'][times[datetimeIndex]]\n",
    "#         tempstring = outputstring + str(times[datetimeIndex].strftime(\"%m/%d/%y %I:%M%p\")) + ';SELL,BTC/EUR-{};'.format(eur_count)\n",
    "#         combo([inventory[0], inventory[1] + eur_count, inventory[2] - btc_tobuy_eur_total, inventory[3]], datetimeIndex + 1, tempstring)\n",
    "\n",
    "#         btc_tobuy_eth_total = min(d['ETH/BTC Ask'][times[datetimeIndex]] * d['ETH/BTC Ask Size'][times[datetimeIndex]], inventory[2])\n",
    "#         eth_count = btc_tobuy_eth_total / d['BTC/EUR Ask'][times[datetimeIndex]]\n",
    "#         tempstring = outputstring + str(times[datetimeIndex].strftime(\"%m/%d/%y %I:%M%p\")) + ';BUY,ETH/BTC-{};'.format(eth_count)\n",
    "#         combo([inventory[0], inventory[1], inventory[2] - btc_tobuy_eth_total, inventory[3] + eth_count], datetimeIndex + 1, tempstring)\n",
    "    \n",
    "#     if inventory[3] > 0:\n",
    "#         eth_tobuy_usd_total = min(d['ETH/USD Bid Size'][times[datetimeIndex]] / d['ETH/USD Bid'][times[datetimeIndex]], inventory[3])\n",
    "#         usd_count = eth_tobuy_usd_total * d['ETH/USD Bid'][times[datetimeIndex]]\n",
    "#         tempstring = outputstring + str(times[datetimeIndex].strftime(\"%m/%d/%y %I:%M%p\")) + ';SELL,ETH/USD-{};'.format(usd_count)\n",
    "#         combo([inventory[0] + usd_count, inventory[1], inventory[2], inventory[3] - eth_tobuy_usd_total], datetimeIndex + 1, tempstring)\n",
    "\n",
    "#         eth_tobuy_eur_total = min(d['ETH/EUR Bid Size'][times[datetimeIndex]] / d['ETH/EUR Bid'][times[datetimeIndex]], inventory[3])\n",
    "#         eur_count = eth_tobuy_eur_total * d['ETH/EUR Bid'][times[datetimeIndex]]\n",
    "#         tempstring = outputstring + str(times[datetimeIndex].strftime(\"%m/%d/%y %I:%M%p\")) + ';SELL,ETH/EUR-{};'.format(eur_count)\n",
    "#         combo([inventory[0], inventory[1] + eur_count, inventory[2], inventory[3] - eth_tobuy_usd_total], datetimeIndex + 1, tempstring)\n",
    "\n",
    "#         eth_tobuy_btc_total = min(d['ETH/BTC Bid Size'][times[datetimeIndex]] / d['ETH/BTC Bid'][times[datetimeIndex]], inventory[3])\n",
    "#         btc_count = eth_tobuy_btc_total * d['ETH/BTC Bid'][times[datetimeIndex]]\n",
    "#         tempstring = outputstring + str(times[datetimeIndex].strftime(\"%m/%d/%y %I:%M%p\")) + ';SELL,ETH/BTC-{};'.format(btc_count)\n",
    "#         combo([inventory[0], inventory[1], inventory[2] + btc_count, inventory[3] - eth_tobuy_btc_total], datetimeIndex + 1, tempstring)\n",
    "    \n",
    "#     tempstring = outputstring + str(times[datetimeIndex].strftime(\"%m/%d/%y %I:%M%p\")) + ';DO NOTHING;'\n",
    "#     combo(inventory, datetimeIndex + 1, tempstring)\n",
    "\n",
    "# combo([1000,0,0,0],0,\"\")\n",
    "\n",
    "\n",
    "\n",
    "\n",
    "\n"
   ]
  },
  {
   "cell_type": "code",
   "execution_count": null,
   "metadata": {},
   "outputs": [
    {
     "name": "stdout",
     "output_type": "stream",
     "text": [
      "[[]] [''] yes\n"
     ]
    }
   ],
   "source": [
    "print(output,stringoutput, \"yes\")"
   ]
  }
 ],
 "metadata": {
  "interpreter": {
   "hash": "31f2aee4e71d21fbe5cf8b01ff0e069b9275f58929596ceb00d14d90e3e16cd6"
  },
  "kernelspec": {
   "display_name": "Python 3.8.9 64-bit",
   "name": "python3"
  },
  "language_info": {
   "codemirror_mode": {
    "name": "ipython",
    "version": 3
   },
   "file_extension": ".py",
   "mimetype": "text/x-python",
   "name": "python",
   "nbconvert_exporter": "python",
   "pygments_lexer": "ipython3",
   "version": "3.8.9"
  },
  "orig_nbformat": 4
 },
 "nbformat": 4,
 "nbformat_minor": 2
}
